{
 "cells": [
  {
   "cell_type": "code",
   "execution_count": 1,
   "metadata": {},
   "outputs": [],
   "source": [
    "import datetime\n",
    "from pyspark.sql import SparkSession\n",
    "\n",
    "def filtered_empty_element(x):\n",
    "    for i in x:\n",
    "        if len(i) != None:\n",
    "            return i\n",
    "        \n",
    "def map_char(line):\n",
    "    for x in line:\n",
    "        return (x, 1)\n",
    "\n",
    "def GC_content_count(path, filename):\n",
    "    \n",
    "    print(f'GC content in the file \"{filename}\" is {GC_percentage:0.2f}%')\n",
    "    print(f'Total runtime: {total_time}')\n",
    "\n",
    "\n",
    "def GC_content_count(path, filename):\n",
    "    for i in range(6,7):\n",
    "        cores = 2**i\n",
    "        print(cores)\n",
    "        spark_session = SparkSession\\\n",
    "            .builder\\\n",
    "            .master(\"spark://192.168.1.153:7077\") \\\n",
    "            .appName(\"team8\")\\\n",
    "            .config(\"spark.dynamicAllocation.enabled\", True)\\\n",
    "            .config(\"spark.shuffle.service.enabled\", True)\\\n",
    "            .config(\"spark.dynamicAllocation.executorIdleTimeout\",\"300s\")\\\n",
    "            .config(\"spark.cores.max\", cores)\\\n",
    "            .getOrCreate()\n",
    "        sc = spark_session.sparkContext\n",
    "        start = datetime.datetime.now()\n",
    "        microbiome = sc.textFile(path)\n",
    "        microbiome_lines_indices = microbiome.zipWithIndex().map(lambda x: (x[1],x[0]))\n",
    "        microbiome_lines_sorted = microbiome_lines_indices.filter(lambda x: x[0]%4 == 1)\n",
    "        microbiome_no_n = microbiome_lines_sorted.map(lambda x: x[1].split('N')).filter(filtered_empty_element)\n",
    "        microbiome_characters = microbiome_no_n.map(lambda x: list(x[0]))\n",
    "        microbiome_mapped_reduced = microbiome_characters.map(map_char).reduceByKey(lambda x, y: x + y)\n",
    "        total_sum = microbiome_mapped_reduced.map(lambda x: x[1]).sum()\n",
    "        g = microbiome_mapped_reduced.filter(lambda x: x[0] == \"G\").take(1)[0][1]\n",
    "        c = microbiome_mapped_reduced.filter(lambda x: x[0] == \"C\").take(1)[0][1]\n",
    "        GC_percentage = ((g+c)/total_sum)*100\n",
    "        end = datetime.datetime.now()\n",
    "        total_time = end - start\n",
    "        print(f'Four nitrogenous base are {microbiome_mapped_reduced.take(10)}')\n",
    "        print(f'Total sum is {total_sum}')\n",
    "        print(f'G is {g}')\n",
    "        print(f'C is {c}')\n",
    "        print(f'GC content in the file \"{filename}\" is {GC_percentage:0.2f}%')\n",
    "        print(f'Total runtime: {total_time}')\n",
    "        sc.stop()\n",
    "    print(\"End\")"
   ]
  },
  {
   "cell_type": "code",
   "execution_count": 2,
   "metadata": {},
   "outputs": [
    {
     "name": "stdout",
     "output_type": "stream",
     "text": [
      "64\n",
      "Four nitrogenous base are [('C', 15860848), ('T', 12763095), ('A', 17572447), ('G', 6420838)]\n",
      "Total sum is 52617228\n",
      "G is 6420838\n",
      "C is 15860848\n",
      "GC content in the file \"ten_point_six_gb.tar.bz2\" is 42.35%\n",
      "Total runtime: 0:11:18.663210\n",
      "End\n"
     ]
    }
   ],
   "source": [
    "GC_content_count(\"hdfs://192.168.1.153:9000/team08/ten_point_six_gb.tar.bz2\", \"ten_point_six_gb.tar.bz2\")"
   ]
  },
  {
   "cell_type": "code",
   "execution_count": 3,
   "metadata": {},
   "outputs": [
    {
     "name": "stdout",
     "output_type": "stream",
     "text": [
      "64\n",
      "Four nitrogenous base are [('C', 1714440), ('T', 1752065), ('A', 1808603), ('G', 1032089)]\n",
      "Total sum is 6307197\n",
      "G is 1032089\n",
      "C is 1714440\n",
      "GC content in the file \"SRS143728.tar.bz2\" is 43.55%\n",
      "Total runtime: 0:05:38.208021\n",
      "End\n"
     ]
    }
   ],
   "source": [
    "GC_content_count(\"hdfs://192.168.1.153:9000/team08/SRS143728.tar.bz2\", \"SRS143728.tar.bz2\")"
   ]
  },
  {
   "cell_type": "code",
   "execution_count": null,
   "metadata": {},
   "outputs": [],
   "source": [
    "#.config(\"spark.cores.max\", cores)\\\n",
    "#.config(\"spark.executor.cores\", 4)\\"
   ]
  },
  {
   "cell_type": "code",
   "execution_count": null,
   "metadata": {},
   "outputs": [],
   "source": []
  }
 ],
 "metadata": {
  "kernelspec": {
   "display_name": "Python 3",
   "language": "python",
   "name": "python3"
  },
  "language_info": {
   "codemirror_mode": {
    "name": "ipython",
    "version": 3
   },
   "file_extension": ".py",
   "mimetype": "text/x-python",
   "name": "python",
   "nbconvert_exporter": "python",
   "pygments_lexer": "ipython3",
   "version": "3.6.7"
  }
 },
 "nbformat": 4,
 "nbformat_minor": 2
}
