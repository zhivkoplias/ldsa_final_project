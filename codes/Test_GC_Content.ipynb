{
 "cells": [
  {
   "cell_type": "code",
   "execution_count": 1,
   "metadata": {},
   "outputs": [],
   "source": [
    "import datetime\n",
    "from pyspark.sql import SparkSession\n",
    "#or use .master(\"local[1]\") instead of .master(\"spark://192.168.1.153:7077\")\n",
    "spark_session = SparkSession\\\n",
    "        .builder\\\n",
    "        .master(\"spark://192.168.1.153:7077\") \\\n",
    "        .appName(\"team8_03\")\\\n",
    "        .config(\"spark.dynamicAllocation.enabled\", True)\\\n",
    "        .config(\"spark.shuffle.service.enabled\", True)\\\n",
    "        .config(\"spark.dynamicAllocation.executorIdleTimeout\",\"30s\")\\\n",
    "        .config(\"spark.executor.cores\",1)\\\n",
    "        .getOrCreate()\n",
    "        \n",
    "sc = spark_session.sparkContext"
   ]
  },
  {
   "cell_type": "code",
   "execution_count": 2,
   "metadata": {},
   "outputs": [],
   "source": [
    "def separate(x):\n",
    "    for c in x:\n",
    "        return (list(c))\n",
    "\n",
    "def map_char(line):\n",
    "    for x in line:\n",
    "        return (x, 1)"
   ]
  },
  {
   "cell_type": "code",
   "execution_count": 3,
   "metadata": {},
   "outputs": [],
   "source": [
    "def GC_content_count(path, filename):\n",
    "    start = datetime.datetime.now()\n",
    "    microbiome = sc.textFile(path)\n",
    "    microbiome_lines = microbiome.map(lambda x: x.split('\\n'))\n",
    "    microbiome_lines_indices =microbiome_lines.zipWithIndex().map(lambda x: (x[1],x[0]))\n",
    "    microbiome_characters = microbiome_lines_indices.filter(lambda x: x[0]%4 == 1).map(lambda x: separate(x[1]))\n",
    "    microbiome_mapped_reduced = microbiome_characters.map(map_char).reduceByKey(lambda x, y: x + y)\n",
    "    total_sum = microbiome_mapped_reduced.map(lambda x: x[1]).sum()\n",
    "    g = microbiome_mapped_reduced.filter(lambda x: x[0] == \"G\").filter(lambda x: x[1]).take(1)[0][1]\n",
    "    c = microbiome_mapped_reduced.filter(lambda x: x[0] == \"C\").filter(lambda x: x[1]).take(1)[0][1]\n",
    "    GC_percentage = ((g+c)/total_sum)*100\n",
    "    end = datetime.datetime.now()\n",
    "    total_time = end - start\n",
    "    print(f'GC content in the file \"{filename}\" is {GC_percentage:0.2f}%')\n",
    "    print(f'Total runtime: {total_time}')"
   ]
  },
  {
   "cell_type": "code",
   "execution_count": 4,
   "metadata": {},
   "outputs": [
    {
     "name": "stdout",
     "output_type": "stream",
     "text": [
      "GC content in the file \"SRS055118.tar.bz2\" is 89.90%\n",
      "Total runtime: 0:03:24.270642\n"
     ]
    }
   ],
   "source": [
    "GC_content_count(\"hdfs://192.168.1.153:9000/team08/SRS055118.tar.bz2\", \"SRS055118.tar.bz2\")"
   ]
  },
  {
   "cell_type": "code",
   "execution_count": 5,
   "metadata": {},
   "outputs": [
    {
     "name": "stdout",
     "output_type": "stream",
     "text": [
      "GC content in the file \"joined.tar.bz2\" is 76.83%\n",
      "Total runtime: 0:03:10.090163\n"
     ]
    }
   ],
   "source": [
    "GC_content_count(\"hdfs://192.168.1.153:9000/team08/joined.tar.bz2\", \"joined.tar.bz2\")"
   ]
  },
  {
   "cell_type": "code",
   "execution_count": null,
   "metadata": {},
   "outputs": [],
   "source": []
  }
 ],
 "metadata": {
  "kernelspec": {
   "display_name": "Python 3",
   "language": "python",
   "name": "python3"
  },
  "language_info": {
   "codemirror_mode": {
    "name": "ipython",
    "version": 3
   },
   "file_extension": ".py",
   "mimetype": "text/x-python",
   "name": "python",
   "nbconvert_exporter": "python",
   "pygments_lexer": "ipython3",
   "version": "3.6.7"
  }
 },
 "nbformat": 4,
 "nbformat_minor": 2
}
