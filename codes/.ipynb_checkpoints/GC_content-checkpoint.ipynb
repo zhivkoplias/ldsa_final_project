{
 "cells": [
  {
   "cell_type": "code",
   "execution_count": 1,
   "metadata": {},
   "outputs": [],
   "source": [
    "import datetime\n",
    "from pyspark.sql import SparkSession\n",
    "\n",
    "spark_session = SparkSession\\\n",
    "        .builder\\\n",
    "        .master(\"spark://192.168.1.153:7077\") \\\n",
    "        .appName(\"team8\")\\\n",
    "        .config(\"spark.dynamicAllocation.enabled\", True)\\\n",
    "        .config(\"spark.shuffle.service.enabled\", True)\\\n",
    "        .config(\"spark.dynamicAllocation.executorIdleTimeout\",\"300s\")\\\n",
    "        .config(\"spark.cores.max\", 32)\\\n",
    "        .config(\"spark.executor.cores\", 1)\\\n",
    "        .getOrCreate()\n",
    "        \n",
    "sc = spark_session.sparkContext\n",
    "#More to experiment\n",
    "#spark.dynamicAllocation.maxExecutors.\n",
    "#spark.dynamicAllocation.minExecutors.\n",
    "#spark.dynamicAllocation.initialExecutors.\n",
    "#We could not test it during the experimentation because of the technical problem."
   ]
  },
  {
   "cell_type": "code",
   "execution_count": 2,
   "metadata": {},
   "outputs": [],
   "source": [
    "file_name = \"ten_point_six_gb.tar.bz2\"\n",
    "microbiome = sc.textFile(\"hdfs://192.168.1.153:9000/team08/ten_point_six_gb.tar.bz2\")"
   ]
  },
  {
   "cell_type": "code",
   "execution_count": 3,
   "metadata": {},
   "outputs": [
    {
     "data": {
      "text/plain": [
       "1189209961"
      ]
     },
     "execution_count": 3,
     "metadata": {},
     "output_type": "execute_result"
    }
   ],
   "source": [
    "microbiome.count()"
   ]
  },
  {
   "cell_type": "code",
   "execution_count": 4,
   "metadata": {},
   "outputs": [
    {
     "data": {
      "text/plain": [
       "['./SRS142791/\\x00\\x00\\x00\\x00\\x00\\x00\\x00\\x00\\x00\\x00\\x00\\x00\\x00\\x00\\x00\\x00\\x00\\x00\\x00\\x00\\x00\\x00\\x00\\x00\\x00\\x00\\x00\\x00\\x00\\x00\\x00\\x00\\x00\\x00\\x00\\x00\\x00\\x00\\x00\\x00\\x00\\x00\\x00\\x00\\x00\\x00\\x00\\x00\\x00\\x00\\x00\\x00\\x00\\x00\\x00\\x00\\x00\\x00\\x00\\x00\\x00\\x00\\x00\\x00\\x00\\x00\\x00\\x00\\x00\\x00\\x00\\x00\\x00\\x00\\x00\\x00\\x00\\x00\\x00\\x00\\x00\\x00\\x00\\x00\\x00\\x00\\x00\\x000000755\\x000002240\\x000000000\\x0000000000000\\x0012130741224\\x00012024\\x00 5\\x00\\x00\\x00\\x00\\x00\\x00\\x00\\x00\\x00\\x00\\x00\\x00\\x00\\x00\\x00\\x00\\x00\\x00\\x00\\x00\\x00\\x00\\x00\\x00\\x00\\x00\\x00\\x00\\x00\\x00\\x00\\x00\\x00\\x00\\x00\\x00\\x00\\x00\\x00\\x00\\x00\\x00\\x00\\x00\\x00\\x00\\x00\\x00\\x00\\x00\\x00\\x00\\x00\\x00\\x00\\x00\\x00\\x00\\x00\\x00\\x00\\x00\\x00\\x00\\x00\\x00\\x00\\x00\\x00\\x00\\x00\\x00\\x00\\x00\\x00\\x00\\x00\\x00\\x00\\x00\\x00\\x00\\x00\\x00\\x00\\x00\\x00\\x00\\x00\\x00\\x00\\x00\\x00\\x00\\x00\\x00\\x00\\x00\\x00\\x00ustar  \\x00kshefchek\\x00\\x00\\x00\\x00\\x00\\x00\\x00\\x00\\x00\\x00\\x00\\x00\\x00\\x00\\x00\\x00\\x00\\x00\\x00\\x00\\x00\\x00\\x00root\\x00\\x00\\x00\\x00\\x00\\x00\\x00\\x00\\x00\\x00\\x00\\x00\\x00\\x00\\x00\\x00\\x00\\x00\\x00\\x00\\x00\\x00\\x00\\x00\\x00\\x00\\x00\\x00\\x00\\x00\\x00\\x00\\x00\\x00\\x00\\x00\\x00\\x00\\x00\\x00\\x00\\x00\\x00\\x00\\x00\\x00\\x00\\x00\\x00\\x00\\x00\\x00\\x00\\x00\\x00\\x00\\x00\\x00\\x00\\x00\\x00\\x00\\x00\\x00\\x00\\x00\\x00\\x00\\x00\\x00\\x00\\x00\\x00\\x00\\x00\\x00\\x00\\x00\\x00\\x00\\x00\\x00\\x00\\x00\\x00\\x00\\x00\\x00\\x00\\x00\\x00\\x00\\x00\\x00\\x00\\x00\\x00\\x00\\x00\\x00\\x00\\x00\\x00\\x00\\x00\\x00\\x00\\x00\\x00\\x00\\x00\\x00\\x00\\x00\\x00\\x00\\x00\\x00\\x00\\x00\\x00\\x00\\x00\\x00\\x00\\x00\\x00\\x00\\x00\\x00\\x00\\x00\\x00\\x00\\x00\\x00\\x00\\x00\\x00\\x00\\x00\\x00\\x00\\x00\\x00\\x00\\x00\\x00\\x00\\x00\\x00\\x00\\x00\\x00\\x00\\x00\\x00\\x00\\x00\\x00\\x00\\x00\\x00\\x00\\x00\\x00\\x00\\x00\\x00\\x00\\x00\\x00\\x00\\x00\\x00\\x00\\x00\\x00\\x00\\x00\\x00\\x00\\x00\\x00\\x00\\x00\\x00\\x00\\x00\\x00\\x00\\x00\\x00\\x00\\x00\\x00\\x00\\x00\\x00\\x00\\x00\\x00\\x00\\x00\\x00\\x00\\x00\\x00\\x00\\x00\\x00./SRS142791/SRS142791.denovo_duplicates_marked.trimmed.1.fastq\\x00\\x00\\x00\\x00\\x00\\x00\\x00\\x00\\x00\\x00\\x00\\x00\\x00\\x00\\x00\\x00\\x00\\x00\\x00\\x00\\x00\\x00\\x00\\x00\\x00\\x00\\x00\\x00\\x00\\x00\\x00\\x00\\x00\\x00\\x00\\x00\\x00\\x000000644\\x000002240\\x000000000\\x00�\\x00\\x00\\x00\\x00\\x00\\x00\\x04���12130740620\\x00023727\\x00 0\\x00\\x00\\x00\\x00\\x00\\x00\\x00\\x00\\x00\\x00\\x00\\x00\\x00\\x00\\x00\\x00\\x00\\x00\\x00\\x00\\x00\\x00\\x00\\x00\\x00\\x00\\x00\\x00\\x00\\x00\\x00\\x00\\x00\\x00\\x00\\x00\\x00\\x00\\x00\\x00\\x00\\x00\\x00\\x00\\x00\\x00\\x00\\x00\\x00\\x00\\x00\\x00\\x00\\x00\\x00\\x00\\x00\\x00\\x00\\x00\\x00\\x00\\x00\\x00\\x00\\x00\\x00\\x00\\x00\\x00\\x00\\x00\\x00\\x00\\x00\\x00\\x00\\x00\\x00\\x00\\x00\\x00\\x00\\x00\\x00\\x00\\x00\\x00\\x00\\x00\\x00\\x00\\x00\\x00\\x00\\x00\\x00\\x00\\x00\\x00ustar  \\x00kshefchek\\x00\\x00\\x00\\x00\\x00\\x00\\x00\\x00\\x00\\x00\\x00\\x00\\x00\\x00\\x00\\x00\\x00\\x00\\x00\\x00\\x00\\x00\\x00root\\x00\\x00\\x00\\x00\\x00\\x00\\x00\\x00\\x00\\x00\\x00\\x00\\x00\\x00\\x00\\x00\\x00\\x00\\x00\\x00\\x00\\x00\\x00\\x00\\x00\\x00\\x00\\x00\\x00\\x00\\x00\\x00\\x00\\x00\\x00\\x00\\x00\\x00\\x00\\x00\\x00\\x00\\x00\\x00\\x00\\x00\\x00\\x00\\x00\\x00\\x00\\x00\\x00\\x00\\x00\\x00\\x00\\x00\\x00\\x00\\x00\\x00\\x00\\x00\\x00\\x00\\x00\\x00\\x00\\x00\\x00\\x00\\x00\\x00\\x00\\x00\\x00\\x00\\x00\\x00\\x00\\x00\\x00\\x00\\x00\\x00\\x00\\x00\\x00\\x00\\x00\\x00\\x00\\x00\\x00\\x00\\x00\\x00\\x00\\x00\\x00\\x00\\x00\\x00\\x00\\x00\\x00\\x00\\x00\\x00\\x00\\x00\\x00\\x00\\x00\\x00\\x00\\x00\\x00\\x00\\x00\\x00\\x00\\x00\\x00\\x00\\x00\\x00\\x00\\x00\\x00\\x00\\x00\\x00\\x00\\x00\\x00\\x00\\x00\\x00\\x00\\x00\\x00\\x00\\x00\\x00\\x00\\x00\\x00\\x00\\x00\\x00\\x00\\x00\\x00\\x00\\x00\\x00\\x00\\x00\\x00\\x00\\x00\\x00\\x00\\x00\\x00\\x00\\x00\\x00\\x00\\x00\\x00\\x00\\x00\\x00\\x00\\x00\\x00\\x00\\x00\\x00\\x00\\x00\\x00\\x00\\x00\\x00\\x00\\x00\\x00\\x00\\x00\\x00\\x00\\x00\\x00\\x00\\x00\\x00\\x00\\x00\\x00\\x00\\x00\\x00\\x00\\x00\\x00\\x00\\x00@SRR513822.1/1',\n",
       " 'NNNNNNNNNNNNNNNNNNNNNNNNNNNNNNNNNNNNNNNNNNNNNNNNNNNNNNNNNNNNNNNNNNNNNNNNNNNNNNNNNNNNNNNNNNNNNNNNNNNN',\n",
       " '+SRR513822.1/1',\n",
       " '%4=DDFFFHHGHHIIIIIIIGHHIIHIHIIEHGHIIIIHIIIIIEIIHIHHHIIIIIIIDIIIIHHFFEEEEEDDCDEDDFEEEEEDDDBCCDCCDCCDC',\n",
       " '@SRR513822.10/1',\n",
       " 'NGAGCGCGCAGGCGCCGACGGCCAGGTGCTCGGCCCGGCGGTGCACGTGCTCGGCGATGGACACCAGGCCCTCGGGACCGGGGTAGACCGCGGAGAAGGC',\n",
       " '+SRR513822.10/1',\n",
       " \"%1=DDFFFHGHGGIEHGIIIIII>EH;CHFDDA?BBCCCCB'67AA@?BA<927B855773>ABB?<B8?@1?9<<55@%%%%%%%%%%%%%%%%%%%%%\",\n",
       " '@SRR513822.100/1',\n",
       " 'NATTGATTTCACGCGTCCAGAAGGCACGCTTGAGCATATCGCATTTTGTGTCGCTAATAACAAAAAGATGGTAATTGGTACCACAGGTTTTGATGACGCA']"
      ]
     },
     "execution_count": 4,
     "metadata": {},
     "output_type": "execute_result"
    }
   ],
   "source": [
    "microbiome.take(10)"
   ]
  },
  {
   "cell_type": "code",
   "execution_count": 5,
   "metadata": {},
   "outputs": [],
   "source": [
    "microbiome_lines_indices = microbiome.zipWithIndex().map(lambda x: (x[1],x[0]))"
   ]
  },
  {
   "cell_type": "code",
   "execution_count": 6,
   "metadata": {},
   "outputs": [
    {
     "data": {
      "text/plain": [
       "1189209961"
      ]
     },
     "execution_count": 6,
     "metadata": {},
     "output_type": "execute_result"
    }
   ],
   "source": [
    "microbiome_lines_indices.count()"
   ]
  },
  {
   "cell_type": "code",
   "execution_count": 7,
   "metadata": {},
   "outputs": [
    {
     "data": {
      "text/plain": [
       "[(0,\n",
       "  './SRS142791/\\x00\\x00\\x00\\x00\\x00\\x00\\x00\\x00\\x00\\x00\\x00\\x00\\x00\\x00\\x00\\x00\\x00\\x00\\x00\\x00\\x00\\x00\\x00\\x00\\x00\\x00\\x00\\x00\\x00\\x00\\x00\\x00\\x00\\x00\\x00\\x00\\x00\\x00\\x00\\x00\\x00\\x00\\x00\\x00\\x00\\x00\\x00\\x00\\x00\\x00\\x00\\x00\\x00\\x00\\x00\\x00\\x00\\x00\\x00\\x00\\x00\\x00\\x00\\x00\\x00\\x00\\x00\\x00\\x00\\x00\\x00\\x00\\x00\\x00\\x00\\x00\\x00\\x00\\x00\\x00\\x00\\x00\\x00\\x00\\x00\\x00\\x00\\x000000755\\x000002240\\x000000000\\x0000000000000\\x0012130741224\\x00012024\\x00 5\\x00\\x00\\x00\\x00\\x00\\x00\\x00\\x00\\x00\\x00\\x00\\x00\\x00\\x00\\x00\\x00\\x00\\x00\\x00\\x00\\x00\\x00\\x00\\x00\\x00\\x00\\x00\\x00\\x00\\x00\\x00\\x00\\x00\\x00\\x00\\x00\\x00\\x00\\x00\\x00\\x00\\x00\\x00\\x00\\x00\\x00\\x00\\x00\\x00\\x00\\x00\\x00\\x00\\x00\\x00\\x00\\x00\\x00\\x00\\x00\\x00\\x00\\x00\\x00\\x00\\x00\\x00\\x00\\x00\\x00\\x00\\x00\\x00\\x00\\x00\\x00\\x00\\x00\\x00\\x00\\x00\\x00\\x00\\x00\\x00\\x00\\x00\\x00\\x00\\x00\\x00\\x00\\x00\\x00\\x00\\x00\\x00\\x00\\x00\\x00ustar  \\x00kshefchek\\x00\\x00\\x00\\x00\\x00\\x00\\x00\\x00\\x00\\x00\\x00\\x00\\x00\\x00\\x00\\x00\\x00\\x00\\x00\\x00\\x00\\x00\\x00root\\x00\\x00\\x00\\x00\\x00\\x00\\x00\\x00\\x00\\x00\\x00\\x00\\x00\\x00\\x00\\x00\\x00\\x00\\x00\\x00\\x00\\x00\\x00\\x00\\x00\\x00\\x00\\x00\\x00\\x00\\x00\\x00\\x00\\x00\\x00\\x00\\x00\\x00\\x00\\x00\\x00\\x00\\x00\\x00\\x00\\x00\\x00\\x00\\x00\\x00\\x00\\x00\\x00\\x00\\x00\\x00\\x00\\x00\\x00\\x00\\x00\\x00\\x00\\x00\\x00\\x00\\x00\\x00\\x00\\x00\\x00\\x00\\x00\\x00\\x00\\x00\\x00\\x00\\x00\\x00\\x00\\x00\\x00\\x00\\x00\\x00\\x00\\x00\\x00\\x00\\x00\\x00\\x00\\x00\\x00\\x00\\x00\\x00\\x00\\x00\\x00\\x00\\x00\\x00\\x00\\x00\\x00\\x00\\x00\\x00\\x00\\x00\\x00\\x00\\x00\\x00\\x00\\x00\\x00\\x00\\x00\\x00\\x00\\x00\\x00\\x00\\x00\\x00\\x00\\x00\\x00\\x00\\x00\\x00\\x00\\x00\\x00\\x00\\x00\\x00\\x00\\x00\\x00\\x00\\x00\\x00\\x00\\x00\\x00\\x00\\x00\\x00\\x00\\x00\\x00\\x00\\x00\\x00\\x00\\x00\\x00\\x00\\x00\\x00\\x00\\x00\\x00\\x00\\x00\\x00\\x00\\x00\\x00\\x00\\x00\\x00\\x00\\x00\\x00\\x00\\x00\\x00\\x00\\x00\\x00\\x00\\x00\\x00\\x00\\x00\\x00\\x00\\x00\\x00\\x00\\x00\\x00\\x00\\x00\\x00\\x00\\x00\\x00\\x00\\x00\\x00\\x00\\x00\\x00\\x00\\x00./SRS142791/SRS142791.denovo_duplicates_marked.trimmed.1.fastq\\x00\\x00\\x00\\x00\\x00\\x00\\x00\\x00\\x00\\x00\\x00\\x00\\x00\\x00\\x00\\x00\\x00\\x00\\x00\\x00\\x00\\x00\\x00\\x00\\x00\\x00\\x00\\x00\\x00\\x00\\x00\\x00\\x00\\x00\\x00\\x00\\x00\\x000000644\\x000002240\\x000000000\\x00�\\x00\\x00\\x00\\x00\\x00\\x00\\x04���12130740620\\x00023727\\x00 0\\x00\\x00\\x00\\x00\\x00\\x00\\x00\\x00\\x00\\x00\\x00\\x00\\x00\\x00\\x00\\x00\\x00\\x00\\x00\\x00\\x00\\x00\\x00\\x00\\x00\\x00\\x00\\x00\\x00\\x00\\x00\\x00\\x00\\x00\\x00\\x00\\x00\\x00\\x00\\x00\\x00\\x00\\x00\\x00\\x00\\x00\\x00\\x00\\x00\\x00\\x00\\x00\\x00\\x00\\x00\\x00\\x00\\x00\\x00\\x00\\x00\\x00\\x00\\x00\\x00\\x00\\x00\\x00\\x00\\x00\\x00\\x00\\x00\\x00\\x00\\x00\\x00\\x00\\x00\\x00\\x00\\x00\\x00\\x00\\x00\\x00\\x00\\x00\\x00\\x00\\x00\\x00\\x00\\x00\\x00\\x00\\x00\\x00\\x00\\x00ustar  \\x00kshefchek\\x00\\x00\\x00\\x00\\x00\\x00\\x00\\x00\\x00\\x00\\x00\\x00\\x00\\x00\\x00\\x00\\x00\\x00\\x00\\x00\\x00\\x00\\x00root\\x00\\x00\\x00\\x00\\x00\\x00\\x00\\x00\\x00\\x00\\x00\\x00\\x00\\x00\\x00\\x00\\x00\\x00\\x00\\x00\\x00\\x00\\x00\\x00\\x00\\x00\\x00\\x00\\x00\\x00\\x00\\x00\\x00\\x00\\x00\\x00\\x00\\x00\\x00\\x00\\x00\\x00\\x00\\x00\\x00\\x00\\x00\\x00\\x00\\x00\\x00\\x00\\x00\\x00\\x00\\x00\\x00\\x00\\x00\\x00\\x00\\x00\\x00\\x00\\x00\\x00\\x00\\x00\\x00\\x00\\x00\\x00\\x00\\x00\\x00\\x00\\x00\\x00\\x00\\x00\\x00\\x00\\x00\\x00\\x00\\x00\\x00\\x00\\x00\\x00\\x00\\x00\\x00\\x00\\x00\\x00\\x00\\x00\\x00\\x00\\x00\\x00\\x00\\x00\\x00\\x00\\x00\\x00\\x00\\x00\\x00\\x00\\x00\\x00\\x00\\x00\\x00\\x00\\x00\\x00\\x00\\x00\\x00\\x00\\x00\\x00\\x00\\x00\\x00\\x00\\x00\\x00\\x00\\x00\\x00\\x00\\x00\\x00\\x00\\x00\\x00\\x00\\x00\\x00\\x00\\x00\\x00\\x00\\x00\\x00\\x00\\x00\\x00\\x00\\x00\\x00\\x00\\x00\\x00\\x00\\x00\\x00\\x00\\x00\\x00\\x00\\x00\\x00\\x00\\x00\\x00\\x00\\x00\\x00\\x00\\x00\\x00\\x00\\x00\\x00\\x00\\x00\\x00\\x00\\x00\\x00\\x00\\x00\\x00\\x00\\x00\\x00\\x00\\x00\\x00\\x00\\x00\\x00\\x00\\x00\\x00\\x00\\x00\\x00\\x00\\x00\\x00\\x00\\x00\\x00\\x00@SRR513822.1/1'),\n",
       " (1,\n",
       "  'NNNNNNNNNNNNNNNNNNNNNNNNNNNNNNNNNNNNNNNNNNNNNNNNNNNNNNNNNNNNNNNNNNNNNNNNNNNNNNNNNNNNNNNNNNNNNNNNNNNN'),\n",
       " (2, '+SRR513822.1/1'),\n",
       " (3,\n",
       "  '%4=DDFFFHHGHHIIIIIIIGHHIIHIHIIEHGHIIIIHIIIIIEIIHIHHHIIIIIIIDIIIIHHFFEEEEEDDCDEDDFEEEEEDDDBCCDCCDCCDC'),\n",
       " (4, '@SRR513822.10/1'),\n",
       " (5,\n",
       "  'NGAGCGCGCAGGCGCCGACGGCCAGGTGCTCGGCCCGGCGGTGCACGTGCTCGGCGATGGACACCAGGCCCTCGGGACCGGGGTAGACCGCGGAGAAGGC'),\n",
       " (6, '+SRR513822.10/1'),\n",
       " (7,\n",
       "  \"%1=DDFFFHGHGGIEHGIIIIII>EH;CHFDDA?BBCCCCB'67AA@?BA<927B855773>ABB?<B8?@1?9<<55@%%%%%%%%%%%%%%%%%%%%%\"),\n",
       " (8, '@SRR513822.100/1'),\n",
       " (9,\n",
       "  'NATTGATTTCACGCGTCCAGAAGGCACGCTTGAGCATATCGCATTTTGTGTCGCTAATAACAAAAAGATGGTAATTGGTACCACAGGTTTTGATGACGCA')]"
      ]
     },
     "execution_count": 7,
     "metadata": {},
     "output_type": "execute_result"
    }
   ],
   "source": [
    "microbiome_lines_indices.take(10)"
   ]
  },
  {
   "cell_type": "code",
   "execution_count": 8,
   "metadata": {},
   "outputs": [],
   "source": [
    "microbiome_lines_sorted = microbiome_lines_indices.filter(lambda x: x[0]%4 == 1)"
   ]
  },
  {
   "cell_type": "code",
   "execution_count": 9,
   "metadata": {},
   "outputs": [
    {
     "data": {
      "text/plain": [
       "[(1,\n",
       "  'NNNNNNNNNNNNNNNNNNNNNNNNNNNNNNNNNNNNNNNNNNNNNNNNNNNNNNNNNNNNNNNNNNNNNNNNNNNNNNNNNNNNNNNNNNNNNNNNNNNN'),\n",
       " (5,\n",
       "  'NGAGCGCGCAGGCGCCGACGGCCAGGTGCTCGGCCCGGCGGTGCACGTGCTCGGCGATGGACACCAGGCCCTCGGGACCGGGGTAGACCGCGGAGAAGGC'),\n",
       " (9,\n",
       "  'NATTGATTTCACGCGTCCAGAAGGCACGCTTGAGCATATCGCATTTTGTGTCGCTAATAACAAAAAGATGGTAATTGGTACCACAGGTTTTGATGACGCA'),\n",
       " (13,\n",
       "  'NNNNNNNNNNNNNNNNNNNNNNNNNNNNNNNNNNNNNNNNNNNNNNNNNNNNNNNNNNNNNNNNNNNNNNNNNNNNNNNNNNNNNNNNNNNNNNNNNNNN'),\n",
       " (17,\n",
       "  'CTTGAACCGGCTCTGCGGGACGCAGTAATCCTTCAACTGCCGTTCCAGCCTGTTTGTAGGGACACCTGCCAGGGTCTGTGCGCCGATTGCGGTGCGCGCC'),\n",
       " (21,\n",
       "  'NNNNNNNNNNNNNNNNNNNNNNNNNNNNNNNNNNNNNNNNNNNNNNNNNNNNNNNNNNNNNNNNNNNNNNNNNNNNNNNNNNNNNNNNNNNNNNNNNNNN'),\n",
       " (25,\n",
       "  'CGATACTGTAACGAGTATTCTCTTTACTATTGACTACCGTCACTCTACTGTAATGGTGACCAACGTCTACATGTCCATCCTTATTAGTAATAATTCGGTA'),\n",
       " (29,\n",
       "  'NNNNNNNNNNNNNNNNNNNNNNNNNNNNNNNNNNNNNNNNNNNNNNNNNNNNNNNNNNNNNNNNNNNNNNNNNNNNNNNNNNNNNNNNNNNNNNNNNNNN'),\n",
       " (33,\n",
       "  'NNNNNNNNNNNNNNNNNNNNNNNNNNNNNNNNNNNNNNNNNNNNNNNNNNNNNNNNNNNNNNNNNNNNNNNNNNNNNNNNNNNNNNNNNNNNNNNNNNNN'),\n",
       " (37,\n",
       "  'NNNNNNNNNNNNNNNNNNNNNNNNNNNNNNNNNNNNNNNNNNNNNNNNNNNNNNNNNNNNNNNNNNNNNNNNNNNNNNNNNNNNNNNNNNNNNNNNNNNN')]"
      ]
     },
     "execution_count": 9,
     "metadata": {},
     "output_type": "execute_result"
    }
   ],
   "source": [
    "microbiome_lines_sorted.take(10)"
   ]
  },
  {
   "cell_type": "code",
   "execution_count": 63,
   "metadata": {},
   "outputs": [],
   "source": [
    "def filtered_empty_element(x):\n",
    "    for i in x:\n",
    "        if len(i) != None:\n",
    "            return i\n",
    "        \n",
    "microbiome_no_n = microbiome_lines_sorted.map(lambda x: x[1].split('N')).filter(filtered_empty_element)"
   ]
  },
  {
   "cell_type": "code",
   "execution_count": 64,
   "metadata": {},
   "outputs": [
    {
     "data": {
      "text/plain": [
       "[['CTTGAACCGGCTCTGCGGGACGCAGTAATCCTTCAACTGCCGTTCCAGCCTGTTTGTAGGGACACCTGCCAGGGTCTGTGCGCCGATTGCGGTGCGCGCC'],\n",
       " ['CGATACTGTAACGAGTATTCTCTTTACTATTGACTACCGTCACTCTACTGTAATGGTGACCAACGTCTACATGTCCATCCTTATTAGTAATAATTCGGTA'],\n",
       " ['CACAATCCAAATATGCAAGTAGGAAAATCATATTATTCTGCTGATGGAATTAACTTTGGAACATTTAAATTAGATCATCCTTTCCAATTTTCTAATTTAA'],\n",
       " ['CAAGCACTTCGACATCACCGTCTTCGCCGACCAGGCGGACGACGCTCCGGTCGAGACCTTCGACCTGGAGATCCCTGAGAACCTGACCGACCTTAGCGCC'],\n",
       " ['TAACTTCGCGAGTTTACTAACGGTATCAACCGTTGAAACGATTTATATGTCGGTATTGTCGACATTAATTGCGGCTTTATTAGGCTTACCACTTGGTTTT'],\n",
       " ['TCTACTGTAAAACTGTCTGGATCTTCTGCAACTGTATCAGGTGACGGCGTAGCCGTTTCTGGATCTACCGTGACCATCTCGAAGGGGGGGAACTTTGGCA'],\n",
       " ['ATCATAAGTATAAACATCTAATGTTTGAGGTGCGGCTTTTGCGAAAGCGGAAGCGGTAAAAAGTGCGGTTAAAATGGGAAGCGTTTTGTTTATTATGCGT'],\n",
       " ['TGGAAGGGCATCTTTTGCAGAGAAACGACCGCCAGCCACTAAACCAAGTGTCACAGCTGGATTAAAGTGACCACCAGAAATGTGACCTACAGCGTAAGCC'],\n",
       " ['CACGCAGCAGATGAACTGACAGTAGAGCAAGTAGATAAGGGGAATCTTGCCCTGCGACAAGAAGGAAAAACTGAAACCAACAAAAATCCACTGATACTGT'],\n",
       " ['AAAGACTGAACAATCAAAGCCTTGAATAGCTGGATTTTCTTGGCGTACTGATTCTGTCAGTGCTTCAAGATCTTGGAAAACTAATTTATCTACGCCAATC']]"
      ]
     },
     "execution_count": 64,
     "metadata": {},
     "output_type": "execute_result"
    }
   ],
   "source": [
    "microbiome_no_n.take(10)"
   ]
  },
  {
   "cell_type": "code",
   "execution_count": 50,
   "metadata": {},
   "outputs": [],
   "source": [
    "microbiome_characters = microbiome_no_n.map(lambda x: list(x[0]))"
   ]
  },
  {
   "cell_type": "code",
   "execution_count": 51,
   "metadata": {},
   "outputs": [
    {
     "name": "stdout",
     "output_type": "stream",
     "text": [
      "[['C', 'T', 'T', 'G', 'A', 'A', 'C', 'C', 'G', 'G', 'C', 'T', 'C', 'T', 'G', 'C', 'G', 'G', 'G', 'A', 'C', 'G', 'C', 'A', 'G', 'T', 'A', 'A', 'T', 'C', 'C', 'T', 'T', 'C', 'A', 'A', 'C', 'T', 'G', 'C', 'C', 'G', 'T', 'T', 'C', 'C', 'A', 'G', 'C', 'C', 'T', 'G', 'T', 'T', 'T', 'G', 'T', 'A', 'G', 'G', 'G', 'A', 'C', 'A', 'C', 'C', 'T', 'G', 'C', 'C', 'A', 'G', 'G', 'G', 'T', 'C', 'T', 'G', 'T', 'G', 'C', 'G', 'C', 'C', 'G', 'A', 'T', 'T', 'G', 'C', 'G', 'G', 'T', 'G', 'C', 'G', 'C', 'G', 'C', 'C'], ['C', 'G', 'A', 'T', 'A', 'C', 'T', 'G', 'T', 'A', 'A', 'C', 'G', 'A', 'G', 'T', 'A', 'T', 'T', 'C', 'T', 'C', 'T', 'T', 'T', 'A', 'C', 'T', 'A', 'T', 'T', 'G', 'A', 'C', 'T', 'A', 'C', 'C', 'G', 'T', 'C', 'A', 'C', 'T', 'C', 'T', 'A', 'C', 'T', 'G', 'T', 'A', 'A', 'T', 'G', 'G', 'T', 'G', 'A', 'C', 'C', 'A', 'A', 'C', 'G', 'T', 'C', 'T', 'A', 'C', 'A', 'T', 'G', 'T', 'C', 'C', 'A', 'T', 'C', 'C', 'T', 'T', 'A', 'T', 'T', 'A', 'G', 'T', 'A', 'A', 'T', 'A', 'A', 'T', 'T', 'C', 'G', 'G', 'T', 'A'], ['C', 'A', 'C', 'A', 'A', 'T', 'C', 'C', 'A', 'A', 'A', 'T', 'A', 'T', 'G', 'C', 'A', 'A', 'G', 'T', 'A', 'G', 'G', 'A', 'A', 'A', 'A', 'T', 'C', 'A', 'T', 'A', 'T', 'T', 'A', 'T', 'T', 'C', 'T', 'G', 'C', 'T', 'G', 'A', 'T', 'G', 'G', 'A', 'A', 'T', 'T', 'A', 'A', 'C', 'T', 'T', 'T', 'G', 'G', 'A', 'A', 'C', 'A', 'T', 'T', 'T', 'A', 'A', 'A', 'T', 'T', 'A', 'G', 'A', 'T', 'C', 'A', 'T', 'C', 'C', 'T', 'T', 'T', 'C', 'C', 'A', 'A', 'T', 'T', 'T', 'T', 'C', 'T', 'A', 'A', 'T', 'T', 'T', 'A', 'A'], ['C', 'A', 'A', 'G', 'C', 'A', 'C', 'T', 'T', 'C', 'G', 'A', 'C', 'A', 'T', 'C', 'A', 'C', 'C', 'G', 'T', 'C', 'T', 'T', 'C', 'G', 'C', 'C', 'G', 'A', 'C', 'C', 'A', 'G', 'G', 'C', 'G', 'G', 'A', 'C', 'G', 'A', 'C', 'G', 'C', 'T', 'C', 'C', 'G', 'G', 'T', 'C', 'G', 'A', 'G', 'A', 'C', 'C', 'T', 'T', 'C', 'G', 'A', 'C', 'C', 'T', 'G', 'G', 'A', 'G', 'A', 'T', 'C', 'C', 'C', 'T', 'G', 'A', 'G', 'A', 'A', 'C', 'C', 'T', 'G', 'A', 'C', 'C', 'G', 'A', 'C', 'C', 'T', 'T', 'A', 'G', 'C', 'G', 'C', 'C'], ['T', 'A', 'A', 'C', 'T', 'T', 'C', 'G', 'C', 'G', 'A', 'G', 'T', 'T', 'T', 'A', 'C', 'T', 'A', 'A', 'C', 'G', 'G', 'T', 'A', 'T', 'C', 'A', 'A', 'C', 'C', 'G', 'T', 'T', 'G', 'A', 'A', 'A', 'C', 'G', 'A', 'T', 'T', 'T', 'A', 'T', 'A', 'T', 'G', 'T', 'C', 'G', 'G', 'T', 'A', 'T', 'T', 'G', 'T', 'C', 'G', 'A', 'C', 'A', 'T', 'T', 'A', 'A', 'T', 'T', 'G', 'C', 'G', 'G', 'C', 'T', 'T', 'T', 'A', 'T', 'T', 'A', 'G', 'G', 'C', 'T', 'T', 'A', 'C', 'C', 'A', 'C', 'T', 'T', 'G', 'G', 'T', 'T', 'T', 'T'], ['T', 'C', 'T', 'A', 'C', 'T', 'G', 'T', 'A', 'A', 'A', 'A', 'C', 'T', 'G', 'T', 'C', 'T', 'G', 'G', 'A', 'T', 'C', 'T', 'T', 'C', 'T', 'G', 'C', 'A', 'A', 'C', 'T', 'G', 'T', 'A', 'T', 'C', 'A', 'G', 'G', 'T', 'G', 'A', 'C', 'G', 'G', 'C', 'G', 'T', 'A', 'G', 'C', 'C', 'G', 'T', 'T', 'T', 'C', 'T', 'G', 'G', 'A', 'T', 'C', 'T', 'A', 'C', 'C', 'G', 'T', 'G', 'A', 'C', 'C', 'A', 'T', 'C', 'T', 'C', 'G', 'A', 'A', 'G', 'G', 'G', 'G', 'G', 'G', 'G', 'A', 'A', 'C', 'T', 'T', 'T', 'G', 'G', 'C', 'A'], ['A', 'T', 'C', 'A', 'T', 'A', 'A', 'G', 'T', 'A', 'T', 'A', 'A', 'A', 'C', 'A', 'T', 'C', 'T', 'A', 'A', 'T', 'G', 'T', 'T', 'T', 'G', 'A', 'G', 'G', 'T', 'G', 'C', 'G', 'G', 'C', 'T', 'T', 'T', 'T', 'G', 'C', 'G', 'A', 'A', 'A', 'G', 'C', 'G', 'G', 'A', 'A', 'G', 'C', 'G', 'G', 'T', 'A', 'A', 'A', 'A', 'A', 'G', 'T', 'G', 'C', 'G', 'G', 'T', 'T', 'A', 'A', 'A', 'A', 'T', 'G', 'G', 'G', 'A', 'A', 'G', 'C', 'G', 'T', 'T', 'T', 'T', 'G', 'T', 'T', 'T', 'A', 'T', 'T', 'A', 'T', 'G', 'C', 'G', 'T'], ['T', 'G', 'G', 'A', 'A', 'G', 'G', 'G', 'C', 'A', 'T', 'C', 'T', 'T', 'T', 'T', 'G', 'C', 'A', 'G', 'A', 'G', 'A', 'A', 'A', 'C', 'G', 'A', 'C', 'C', 'G', 'C', 'C', 'A', 'G', 'C', 'C', 'A', 'C', 'T', 'A', 'A', 'A', 'C', 'C', 'A', 'A', 'G', 'T', 'G', 'T', 'C', 'A', 'C', 'A', 'G', 'C', 'T', 'G', 'G', 'A', 'T', 'T', 'A', 'A', 'A', 'G', 'T', 'G', 'A', 'C', 'C', 'A', 'C', 'C', 'A', 'G', 'A', 'A', 'A', 'T', 'G', 'T', 'G', 'A', 'C', 'C', 'T', 'A', 'C', 'A', 'G', 'C', 'G', 'T', 'A', 'A', 'G', 'C', 'C'], ['C', 'A', 'C', 'G', 'C', 'A', 'G', 'C', 'A', 'G', 'A', 'T', 'G', 'A', 'A', 'C', 'T', 'G', 'A', 'C', 'A', 'G', 'T', 'A', 'G', 'A', 'G', 'C', 'A', 'A', 'G', 'T', 'A', 'G', 'A', 'T', 'A', 'A', 'G', 'G', 'G', 'G', 'A', 'A', 'T', 'C', 'T', 'T', 'G', 'C', 'C', 'C', 'T', 'G', 'C', 'G', 'A', 'C', 'A', 'A', 'G', 'A', 'A', 'G', 'G', 'A', 'A', 'A', 'A', 'A', 'C', 'T', 'G', 'A', 'A', 'A', 'C', 'C', 'A', 'A', 'C', 'A', 'A', 'A', 'A', 'A', 'T', 'C', 'C', 'A', 'C', 'T', 'G', 'A', 'T', 'A', 'C', 'T', 'G', 'T'], ['A', 'A', 'A', 'G', 'A', 'C', 'T', 'G', 'A', 'A', 'C', 'A', 'A', 'T', 'C', 'A', 'A', 'A', 'G', 'C', 'C', 'T', 'T', 'G', 'A', 'A', 'T', 'A', 'G', 'C', 'T', 'G', 'G', 'A', 'T', 'T', 'T', 'T', 'C', 'T', 'T', 'G', 'G', 'C', 'G', 'T', 'A', 'C', 'T', 'G', 'A', 'T', 'T', 'C', 'T', 'G', 'T', 'C', 'A', 'G', 'T', 'G', 'C', 'T', 'T', 'C', 'A', 'A', 'G', 'A', 'T', 'C', 'T', 'T', 'G', 'G', 'A', 'A', 'A', 'A', 'C', 'T', 'A', 'A', 'T', 'T', 'T', 'A', 'T', 'C', 'T', 'A', 'C', 'G', 'C', 'C', 'A', 'A', 'T', 'C']]\n"
     ]
    }
   ],
   "source": [
    "print(microbiome_characters.take(10))"
   ]
  },
  {
   "cell_type": "code",
   "execution_count": 52,
   "metadata": {},
   "outputs": [],
   "source": [
    "def map_char(line):\n",
    "    for x in line:\n",
    "        return (x, 1)\n",
    "    \n",
    "microbiome_mapped_reduced = microbiome_characters.map(map_char).reduceByKey(lambda x, y: x + y)"
   ]
  },
  {
   "cell_type": "code",
   "execution_count": 53,
   "metadata": {},
   "outputs": [
    {
     "data": {
      "text/plain": [
       "[('C', 15860848), ('T', 12763095), ('A', 17572447), ('G', 6420838)]"
      ]
     },
     "execution_count": 53,
     "metadata": {},
     "output_type": "execute_result"
    }
   ],
   "source": [
    "microbiome_mapped_reduced.take(10)"
   ]
  },
  {
   "cell_type": "code",
   "execution_count": 54,
   "metadata": {},
   "outputs": [],
   "source": [
    "total_sum = microbiome_mapped_reduced.map(lambda x: x[1]).sum()"
   ]
  },
  {
   "cell_type": "code",
   "execution_count": 55,
   "metadata": {},
   "outputs": [
    {
     "name": "stdout",
     "output_type": "stream",
     "text": [
      "Total sum is 52617228\n"
     ]
    }
   ],
   "source": [
    "print(f'Total sum is {total_sum}')"
   ]
  },
  {
   "cell_type": "code",
   "execution_count": 56,
   "metadata": {},
   "outputs": [],
   "source": [
    "g = microbiome_mapped_reduced.filter(lambda x: x[0] == \"G\").take(1)[0][1]"
   ]
  },
  {
   "cell_type": "code",
   "execution_count": 57,
   "metadata": {},
   "outputs": [
    {
     "name": "stdout",
     "output_type": "stream",
     "text": [
      "G content is 6420838\n"
     ]
    }
   ],
   "source": [
    "print(f'G content is {g}')"
   ]
  },
  {
   "cell_type": "code",
   "execution_count": 58,
   "metadata": {},
   "outputs": [],
   "source": [
    "c = microbiome_mapped_reduced.filter(lambda x: x[0] == \"C\").take(1)[0][1]"
   ]
  },
  {
   "cell_type": "code",
   "execution_count": 59,
   "metadata": {},
   "outputs": [
    {
     "name": "stdout",
     "output_type": "stream",
     "text": [
      "C content is 15860848\n"
     ]
    }
   ],
   "source": [
    "print(f'C content is {c}')"
   ]
  },
  {
   "cell_type": "code",
   "execution_count": 60,
   "metadata": {},
   "outputs": [],
   "source": [
    "GC_percentage = ((g+c)/total_sum)*100"
   ]
  },
  {
   "cell_type": "code",
   "execution_count": 61,
   "metadata": {},
   "outputs": [
    {
     "name": "stdout",
     "output_type": "stream",
     "text": [
      "GC content in the file \"ten_point_six_gb.tar.bz2\" is 42.35%\n"
     ]
    }
   ],
   "source": [
    "print(f'GC content in the file \"{file_name}\" is {GC_percentage:0.2f}%')"
   ]
  },
  {
   "cell_type": "code",
   "execution_count": 65,
   "metadata": {},
   "outputs": [],
   "source": [
    "def GC_content_count(path, filename):\n",
    "    start = datetime.datetime.now()\n",
    "    microbiome = sc.textFile(path)\n",
    "    microbiome_lines_indices = microbiome.zipWithIndex().map(lambda x: (x[1],x[0]))\n",
    "    microbiome_lines_sorted = microbiome_lines_indices.filter(lambda x: x[0]%4 == 1)\n",
    "    microbiome_no_n = microbiome_lines_sorted.map(lambda x: x[1].split('N')).filter(filtered_empty_element)\n",
    "    microbiome_characters = microbiome_no_n.map(lambda x: list(x[0]))\n",
    "    microbiome_mapped_reduced = microbiome_characters.map(map_char).reduceByKey(lambda x, y: x + y)\n",
    "    total_sum = microbiome_mapped_reduced.map(lambda x: x[1]).sum()\n",
    "    g = microbiome_mapped_reduced.filter(lambda x: x[0] == \"G\").take(1)[0][1]\n",
    "    c = microbiome_mapped_reduced.filter(lambda x: x[0] == \"C\").take(1)[0][1]\n",
    "    GC_percentage = ((g+c)/total_sum)*100\n",
    "    end = datetime.datetime.now()\n",
    "    total_time = end - start\n",
    "    print(f'GC content in the file \"{filename}\" is {GC_percentage:0.2f}%')\n",
    "    print(f'Total runtime: {total_time}')"
   ]
  },
  {
   "cell_type": "code",
   "execution_count": 66,
   "metadata": {},
   "outputs": [
    {
     "name": "stdout",
     "output_type": "stream",
     "text": [
      "GC content in the file \"SRS055118.tar.bz2\" is 90.89%\n",
      "Total runtime: 0:03:22.112145\n"
     ]
    }
   ],
   "source": [
    "GC_content_count(\"hdfs://192.168.1.153:9000/team08/SRS055118.tar.bz2\", \"SRS055118.tar.bz2\")"
   ]
  },
  {
   "cell_type": "code",
   "execution_count": 67,
   "metadata": {},
   "outputs": [
    {
     "name": "stdout",
     "output_type": "stream",
     "text": [
      "GC content in the file \"joined.tar.bz2\" is 77.48%\n",
      "Total runtime: 0:03:08.920143\n"
     ]
    }
   ],
   "source": [
    "GC_content_count(\"hdfs://192.168.1.153:9000/team08/joined.tar.bz2\", \"joined.tar.bz2\")"
   ]
  },
  {
   "cell_type": "code",
   "execution_count": 68,
   "metadata": {},
   "outputs": [
    {
     "name": "stdout",
     "output_type": "stream",
     "text": [
      "GC content in the file \"SRS143728.tar.bz2\" is 43.55%\n",
      "Total runtime: 0:05:18.748459\n"
     ]
    }
   ],
   "source": [
    "GC_content_count(\"hdfs://192.168.1.153:9000/team08/SRS143728.tar.bz2\", \"SRS143728.tar.bz2\")"
   ]
  },
  {
   "cell_type": "code",
   "execution_count": 69,
   "metadata": {},
   "outputs": [
    {
     "name": "stdout",
     "output_type": "stream",
     "text": [
      "GC content in the file \"ten_point_six_gb.tar.bz2\" is 42.35%\n",
      "Total runtime: 0:10:15.029845\n"
     ]
    }
   ],
   "source": [
    "GC_content_count(\"hdfs://192.168.1.153:9000/team08/ten_point_six_gb.tar.bz2\", \"ten_point_six_gb.tar.bz2\")"
   ]
  },
  {
   "cell_type": "code",
   "execution_count": 70,
   "metadata": {},
   "outputs": [],
   "source": [
    "sc.stop()"
   ]
  },
  {
   "cell_type": "code",
   "execution_count": null,
   "metadata": {},
   "outputs": [],
   "source": []
  }
 ],
 "metadata": {
  "kernelspec": {
   "display_name": "Python 3",
   "language": "python",
   "name": "python3"
  },
  "language_info": {
   "codemirror_mode": {
    "name": "ipython",
    "version": 3
   },
   "file_extension": ".py",
   "mimetype": "text/x-python",
   "name": "python",
   "nbconvert_exporter": "python",
   "pygments_lexer": "ipython3",
   "version": "3.6.7"
  }
 },
 "nbformat": 4,
 "nbformat_minor": 2
}
