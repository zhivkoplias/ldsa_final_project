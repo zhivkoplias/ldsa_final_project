{
 "cells": [
  {
   "cell_type": "code",
   "execution_count": 1,
   "metadata": {},
   "outputs": [],
   "source": [
    "import datetime\n",
    "from pyspark.sql import SparkSession\n",
    "def map_char(line):\n",
    "    for x in line:\n",
    "        return (x, 1)\n",
    "\n",
    "def GC_content_count(path, filename):\n",
    "    for i in range(0,7):\n",
    "        cores = 2**i\n",
    "        print(cores)\n",
    "        spark_session = SparkSession\\\n",
    "            .builder\\\n",
    "            .master(\"spark://192.168.1.153:7077\") \\\n",
    "            .appName(\"team8\")\\\n",
    "            .config(\"spark.dynamicAllocation.enabled\", True)\\\n",
    "            .config(\"spark.shuffle.service.enabled\", True)\\\n",
    "            .config(\"spark.dynamicAllocation.executorIdleTimeout\",\"300s\")\\\n",
    "            .config(\"spark.cores.max\", cores)\\\n",
    "            .getOrCreate()\n",
    "        sc = spark_session.sparkContext\n",
    "        start = datetime.datetime.now()\n",
    "        microbiome = sc.textFile(path)\n",
    "        microbiome_lines_indices = microbiome.zipWithIndex().map(lambda x: (x[1],x[0]))\n",
    "        microbiome_characters = microbiome_lines_indices.filter(lambda x: x[0]%4 == 1).map(lambda x: list(x[1]))\n",
    "        microbiome_mapped_reduced = microbiome_characters.map(map_char).reduceByKey(lambda x, y: x + y)\n",
    "        total_sum = microbiome_mapped_reduced.map(lambda x: x[1]).sum()\n",
    "        g = microbiome_mapped_reduced.filter(lambda x: x[0] == \"G\").take(1)[0][1]\n",
    "        c = microbiome_mapped_reduced.filter(lambda x: x[0] == \"C\").take(1)[0][1]\n",
    "        GC_percentage = ((g+c)/total_sum)*100\n",
    "        end = datetime.datetime.now()\n",
    "        total_time = end - start\n",
    "        print(f'GC content in the file \"{filename}\" is {GC_percentage:0.2f}%')\n",
    "        print(f'Total runtime: {total_time}')\n",
    "        sc.stop()\n",
    "    print(\"End\")"
   ]
  },
  {
   "cell_type": "code",
   "execution_count": 2,
   "metadata": {},
   "outputs": [
    {
     "name": "stdout",
     "output_type": "stream",
     "text": [
      "1\n",
      "GC content in the file \"ten_point_six_gb.tar.bz2\" is 7.49%\n",
      "Total runtime: 3:29:30.731665\n",
      "2\n",
      "GC content in the file \"ten_point_six_gb.tar.bz2\" is 7.49%\n",
      "Total runtime: 1:46:40.402333\n",
      "4\n",
      "GC content in the file \"ten_point_six_gb.tar.bz2\" is 7.49%\n",
      "Total runtime: 0:57:30.999221\n",
      "8\n",
      "GC content in the file \"ten_point_six_gb.tar.bz2\" is 7.49%\n",
      "Total runtime: 0:52:17.719789\n",
      "16\n",
      "GC content in the file \"ten_point_six_gb.tar.bz2\" is 7.49%\n",
      "Total runtime: 0:17:38.061006\n",
      "32\n",
      "GC content in the file \"ten_point_six_gb.tar.bz2\" is 7.49%\n",
      "Total runtime: 0:10:30.357869\n",
      "64\n",
      "GC content in the file \"ten_point_six_gb.tar.bz2\" is 7.49%\n",
      "Total runtime: 0:05:55.378041\n",
      "End\n"
     ]
    }
   ],
   "source": [
    "GC_content_count(\"hdfs://192.168.1.153:9000/team08/ten_point_six_gb.tar.bz2\", \"ten_point_six_gb.tar.bz2\")"
   ]
  },
  {
   "cell_type": "code",
   "execution_count": 2,
   "metadata": {},
   "outputs": [
    {
     "name": "stdout",
     "output_type": "stream",
     "text": [
      "1\n",
      "GC content in the file \"SRS143728.tar.bz2\" is 2.18%\n",
      "Total runtime: 1:03:42.015692\n",
      "2\n",
      "GC content in the file \"SRS143728.tar.bz2\" is 2.18%\n",
      "Total runtime: 0:46:00.861681\n",
      "4\n",
      "GC content in the file \"SRS143728.tar.bz2\" is 2.18%\n",
      "Total runtime: 0:24:32.347101\n",
      "8\n",
      "GC content in the file \"SRS143728.tar.bz2\" is 2.18%\n",
      "Total runtime: 0:22:21.865033\n",
      "16\n",
      "GC content in the file \"SRS143728.tar.bz2\" is 2.18%\n",
      "Total runtime: 0:08:46.299956\n",
      "32\n",
      "GC content in the file \"SRS143728.tar.bz2\" is 2.18%\n",
      "Total runtime: 0:05:19.575565\n",
      "64\n",
      "GC content in the file \"SRS143728.tar.bz2\" is 2.18%\n",
      "Total runtime: 0:04:56.512024\n",
      "End\n"
     ]
    }
   ],
   "source": [
    "GC_content_count(\"hdfs://192.168.1.153:9000/team08/SRS143728.tar.bz2\", \"SRS143728.tar.bz2\")"
   ]
  },
  {
   "cell_type": "code",
   "execution_count": null,
   "metadata": {},
   "outputs": [],
   "source": []
  }
 ],
 "metadata": {
  "kernelspec": {
   "display_name": "Python 3",
   "language": "python",
   "name": "python3"
  },
  "language_info": {
   "codemirror_mode": {
    "name": "ipython",
    "version": 3
   },
   "file_extension": ".py",
   "mimetype": "text/x-python",
   "name": "python",
   "nbconvert_exporter": "python",
   "pygments_lexer": "ipython3",
   "version": "3.6.7"
  }
 },
 "nbformat": 4,
 "nbformat_minor": 2
}
