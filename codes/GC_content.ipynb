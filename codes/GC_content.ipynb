{
 "cells": [
  {
   "cell_type": "code",
   "execution_count": 1,
   "metadata": {},
   "outputs": [],
   "source": [
    "import datetime\n",
    "from pyspark.sql import SparkSession\n",
    "#or use .master(\"local[1]\") instead of .master(\"spark://192.168.1.153:7077\")\n",
    "spark_session = SparkSession\\\n",
    "        .builder\\\n",
    "        .master(\"spark://192.168.1.153:7077\") \\\n",
    "        .appName(\"team8_02\")\\\n",
    "        .config(\"spark.dynamicAllocation.enabled\", True)\\\n",
    "        .config(\"spark.shuffle.service.enabled\", True)\\\n",
    "        .config(\"spark.dynamicAllocation.executorIdleTimeout\",\"30s\")\\\n",
    "        .config(\"spark.executor.cores\",4)\\\n",
    "        .getOrCreate()\n",
    "        \n",
    "sc = spark_session.sparkContext"
   ]
  },
  {
   "cell_type": "code",
   "execution_count": 2,
   "metadata": {},
   "outputs": [],
   "source": [
    "def separate(x):\n",
    "    for c in x:\n",
    "        return (list(c))\n",
    "\n",
    "def map_char(line):\n",
    "    for x in line:\n",
    "        return (x, 1)"
   ]
  },
  {
   "cell_type": "code",
   "execution_count": 3,
   "metadata": {},
   "outputs": [],
   "source": [
    "file_name = \"SRS055118.tar.bz2\"\n",
    "microbiome = sc.textFile(\"hdfs://192.168.1.153:9000/team08/SRS055118.tar.bz2\")"
   ]
  },
  {
   "cell_type": "code",
   "execution_count": 4,
   "metadata": {},
   "outputs": [
    {
     "data": {
      "text/plain": [
       "46137917"
      ]
     },
     "execution_count": 4,
     "metadata": {},
     "output_type": "execute_result"
    }
   ],
   "source": [
    "microbiome.count()"
   ]
  },
  {
   "cell_type": "code",
   "execution_count": 5,
   "metadata": {},
   "outputs": [
    {
     "data": {
      "text/plain": [
       "['SRS055118/\\x00\\x00\\x00\\x00\\x00\\x00\\x00\\x00\\x00\\x00\\x00\\x00\\x00\\x00\\x00\\x00\\x00\\x00\\x00\\x00\\x00\\x00\\x00\\x00\\x00\\x00\\x00\\x00\\x00\\x00\\x00\\x00\\x00\\x00\\x00\\x00\\x00\\x00\\x00\\x00\\x00\\x00\\x00\\x00\\x00\\x00\\x00\\x00\\x00\\x00\\x00\\x00\\x00\\x00\\x00\\x00\\x00\\x00\\x00\\x00\\x00\\x00\\x00\\x00\\x00\\x00\\x00\\x00\\x00\\x00\\x00\\x00\\x00\\x00\\x00\\x00\\x00\\x00\\x00\\x00\\x00\\x00\\x00\\x00\\x00\\x00\\x00\\x00\\x00\\x000002775\\x000001760\\x000001750\\x0000000000000\\x0011553572542\\x00011070\\x00 5\\x00\\x00\\x00\\x00\\x00\\x00\\x00\\x00\\x00\\x00\\x00\\x00\\x00\\x00\\x00\\x00\\x00\\x00\\x00\\x00\\x00\\x00\\x00\\x00\\x00\\x00\\x00\\x00\\x00\\x00\\x00\\x00\\x00\\x00\\x00\\x00\\x00\\x00\\x00\\x00\\x00\\x00\\x00\\x00\\x00\\x00\\x00\\x00\\x00\\x00\\x00\\x00\\x00\\x00\\x00\\x00\\x00\\x00\\x00\\x00\\x00\\x00\\x00\\x00\\x00\\x00\\x00\\x00\\x00\\x00\\x00\\x00\\x00\\x00\\x00\\x00\\x00\\x00\\x00\\x00\\x00\\x00\\x00\\x00\\x00\\x00\\x00\\x00\\x00\\x00\\x00\\x00\\x00\\x00\\x00\\x00\\x00\\x00\\x00\\x00ustar  \\x00vfelix\\x00\\x00\\x00\\x00\\x00\\x00\\x00\\x00\\x00\\x00\\x00\\x00\\x00\\x00\\x00\\x00\\x00\\x00\\x00\\x00\\x00\\x00\\x00\\x00\\x00\\x00igs\\x00\\x00\\x00\\x00\\x00\\x00\\x00\\x00\\x00\\x00\\x00\\x00\\x00\\x00\\x00\\x00\\x00\\x00\\x00\\x00\\x00\\x00\\x00\\x00\\x00\\x00\\x00\\x00\\x00\\x00\\x00\\x00\\x00\\x00\\x00\\x00\\x00\\x00\\x00\\x00\\x00\\x00\\x00\\x00\\x00\\x00\\x00\\x00\\x00\\x00\\x00\\x00\\x00\\x00\\x00\\x00\\x00\\x00\\x00\\x00\\x00\\x00\\x00\\x00\\x00\\x00\\x00\\x00\\x00\\x00\\x00\\x00\\x00\\x00\\x00\\x00\\x00\\x00\\x00\\x00\\x00\\x00\\x00\\x00\\x00\\x00\\x00\\x00\\x00\\x00\\x00\\x00\\x00\\x00\\x00\\x00\\x00\\x00\\x00\\x00\\x00\\x00\\x00\\x00\\x00\\x00\\x00\\x00\\x00\\x00\\x00\\x00\\x00\\x00\\x00\\x00\\x00\\x00\\x00\\x00\\x00\\x00\\x00\\x00\\x00\\x00\\x00\\x00\\x00\\x00\\x00\\x00\\x00\\x00\\x00\\x00\\x00\\x00\\x00\\x00\\x00\\x00\\x00\\x00\\x00\\x00\\x00\\x00\\x00\\x00\\x00\\x00\\x00\\x00\\x00\\x00\\x00\\x00\\x00\\x00\\x00\\x00\\x00\\x00\\x00\\x00\\x00\\x00\\x00\\x00\\x00\\x00\\x00\\x00\\x00\\x00\\x00\\x00\\x00\\x00\\x00\\x00\\x00\\x00\\x00\\x00\\x00\\x00\\x00\\x00\\x00\\x00\\x00\\x00\\x00\\x00\\x00\\x00\\x00\\x00\\x00\\x00\\x00\\x00\\x00\\x00\\x00\\x00\\x00\\x00\\x00\\x00SRS055118/SRS055118.denovo_duplicates_marked.trimmed.2.fastq\\x00\\x00\\x00\\x00\\x00\\x00\\x00\\x00\\x00\\x00\\x00\\x00\\x00\\x00\\x00\\x00\\x00\\x00\\x00\\x00\\x00\\x00\\x00\\x00\\x00\\x00\\x00\\x00\\x00\\x00\\x00\\x00\\x00\\x00\\x00\\x00\\x00\\x00\\x00\\x000000664\\x000001760\\x000001750\\x0003157171664\\x0011553572542\\x00022151\\x00 0\\x00\\x00\\x00\\x00\\x00\\x00\\x00\\x00\\x00\\x00\\x00\\x00\\x00\\x00\\x00\\x00\\x00\\x00\\x00\\x00\\x00\\x00\\x00\\x00\\x00\\x00\\x00\\x00\\x00\\x00\\x00\\x00\\x00\\x00\\x00\\x00\\x00\\x00\\x00\\x00\\x00\\x00\\x00\\x00\\x00\\x00\\x00\\x00\\x00\\x00\\x00\\x00\\x00\\x00\\x00\\x00\\x00\\x00\\x00\\x00\\x00\\x00\\x00\\x00\\x00\\x00\\x00\\x00\\x00\\x00\\x00\\x00\\x00\\x00\\x00\\x00\\x00\\x00\\x00\\x00\\x00\\x00\\x00\\x00\\x00\\x00\\x00\\x00\\x00\\x00\\x00\\x00\\x00\\x00\\x00\\x00\\x00\\x00\\x00\\x00ustar  \\x00vfelix\\x00\\x00\\x00\\x00\\x00\\x00\\x00\\x00\\x00\\x00\\x00\\x00\\x00\\x00\\x00\\x00\\x00\\x00\\x00\\x00\\x00\\x00\\x00\\x00\\x00\\x00igs\\x00\\x00\\x00\\x00\\x00\\x00\\x00\\x00\\x00\\x00\\x00\\x00\\x00\\x00\\x00\\x00\\x00\\x00\\x00\\x00\\x00\\x00\\x00\\x00\\x00\\x00\\x00\\x00\\x00\\x00\\x00\\x00\\x00\\x00\\x00\\x00\\x00\\x00\\x00\\x00\\x00\\x00\\x00\\x00\\x00\\x00\\x00\\x00\\x00\\x00\\x00\\x00\\x00\\x00\\x00\\x00\\x00\\x00\\x00\\x00\\x00\\x00\\x00\\x00\\x00\\x00\\x00\\x00\\x00\\x00\\x00\\x00\\x00\\x00\\x00\\x00\\x00\\x00\\x00\\x00\\x00\\x00\\x00\\x00\\x00\\x00\\x00\\x00\\x00\\x00\\x00\\x00\\x00\\x00\\x00\\x00\\x00\\x00\\x00\\x00\\x00\\x00\\x00\\x00\\x00\\x00\\x00\\x00\\x00\\x00\\x00\\x00\\x00\\x00\\x00\\x00\\x00\\x00\\x00\\x00\\x00\\x00\\x00\\x00\\x00\\x00\\x00\\x00\\x00\\x00\\x00\\x00\\x00\\x00\\x00\\x00\\x00\\x00\\x00\\x00\\x00\\x00\\x00\\x00\\x00\\x00\\x00\\x00\\x00\\x00\\x00\\x00\\x00\\x00\\x00\\x00\\x00\\x00\\x00\\x00\\x00\\x00\\x00\\x00\\x00\\x00\\x00\\x00\\x00\\x00\\x00\\x00\\x00\\x00\\x00\\x00\\x00\\x00\\x00\\x00\\x00\\x00\\x00\\x00\\x00\\x00\\x00\\x00\\x00\\x00\\x00\\x00\\x00\\x00\\x00\\x00\\x00\\x00\\x00\\x00\\x00\\x00\\x00\\x00\\x00\\x00\\x00\\x00\\x00\\x00\\x00\\x00@HWI-EAS90_102444043:7:100:10000:11973/2',\n",
       " 'GATCGGGAGAGGGGCGGGGGGGGGGAGAGGGGAGATCTCGGGGGGGGGGGGGTGATTTAAAAAAA',\n",
       " '+HWI-EAS90_102444043:7:100:10000:11973/2',\n",
       " \"A0.39:*22/5(@/(C+?0&;=A2+,0)3+?3'?'%)0).@5BC9/?/'9')&%$;=1:<?AA?#\",\n",
       " '@HWI-EAS90_102444043:7:100:10001:3890/2',\n",
       " 'TAAGGAGATGAGCAAAAGACCTAAGATAATACCCCGCTGATAGCCTATTTTAGTGAGAATAAAACCTGCAGGGATAGAAAAAAATAAGTAAGACAAGAAG',\n",
       " '+HWI-EAS90_102444043:7:100:10001:3890/2',\n",
       " 'GGGGGGGGGGGGFGGGGGBGGGGFGGGGGGGGFGFGGGGFGGGDGGGFGGGGGBGBEBEEGGGGCFCGFGEFGGDGFBGEGGGGDCGF?GGGFEFBDBEE',\n",
       " '@HWI-EAS90_102444043:7:100:10004:4598/2',\n",
       " 'GTTCTCCGCGACGATGCCACCGAAGATCAAGAAGTTCGCCCGCACGATCCTGCACGATCCCGCCGAGGTCGAGCTGGCGATCTCCCGCCCGCC']"
      ]
     },
     "execution_count": 5,
     "metadata": {},
     "output_type": "execute_result"
    }
   ],
   "source": [
    "microbiome.take(10)"
   ]
  },
  {
   "cell_type": "code",
   "execution_count": 4,
   "metadata": {},
   "outputs": [],
   "source": [
    "microbiome_lines = microbiome.map(lambda x: x.split('\\n'))"
   ]
  },
  {
   "cell_type": "code",
   "execution_count": 7,
   "metadata": {},
   "outputs": [
    {
     "data": {
      "text/plain": [
       "46137917"
      ]
     },
     "execution_count": 7,
     "metadata": {},
     "output_type": "execute_result"
    }
   ],
   "source": [
    "microbiome_lines.count()"
   ]
  },
  {
   "cell_type": "code",
   "execution_count": 8,
   "metadata": {},
   "outputs": [
    {
     "data": {
      "text/plain": [
       "[['SRS055118/\\x00\\x00\\x00\\x00\\x00\\x00\\x00\\x00\\x00\\x00\\x00\\x00\\x00\\x00\\x00\\x00\\x00\\x00\\x00\\x00\\x00\\x00\\x00\\x00\\x00\\x00\\x00\\x00\\x00\\x00\\x00\\x00\\x00\\x00\\x00\\x00\\x00\\x00\\x00\\x00\\x00\\x00\\x00\\x00\\x00\\x00\\x00\\x00\\x00\\x00\\x00\\x00\\x00\\x00\\x00\\x00\\x00\\x00\\x00\\x00\\x00\\x00\\x00\\x00\\x00\\x00\\x00\\x00\\x00\\x00\\x00\\x00\\x00\\x00\\x00\\x00\\x00\\x00\\x00\\x00\\x00\\x00\\x00\\x00\\x00\\x00\\x00\\x00\\x00\\x000002775\\x000001760\\x000001750\\x0000000000000\\x0011553572542\\x00011070\\x00 5\\x00\\x00\\x00\\x00\\x00\\x00\\x00\\x00\\x00\\x00\\x00\\x00\\x00\\x00\\x00\\x00\\x00\\x00\\x00\\x00\\x00\\x00\\x00\\x00\\x00\\x00\\x00\\x00\\x00\\x00\\x00\\x00\\x00\\x00\\x00\\x00\\x00\\x00\\x00\\x00\\x00\\x00\\x00\\x00\\x00\\x00\\x00\\x00\\x00\\x00\\x00\\x00\\x00\\x00\\x00\\x00\\x00\\x00\\x00\\x00\\x00\\x00\\x00\\x00\\x00\\x00\\x00\\x00\\x00\\x00\\x00\\x00\\x00\\x00\\x00\\x00\\x00\\x00\\x00\\x00\\x00\\x00\\x00\\x00\\x00\\x00\\x00\\x00\\x00\\x00\\x00\\x00\\x00\\x00\\x00\\x00\\x00\\x00\\x00\\x00ustar  \\x00vfelix\\x00\\x00\\x00\\x00\\x00\\x00\\x00\\x00\\x00\\x00\\x00\\x00\\x00\\x00\\x00\\x00\\x00\\x00\\x00\\x00\\x00\\x00\\x00\\x00\\x00\\x00igs\\x00\\x00\\x00\\x00\\x00\\x00\\x00\\x00\\x00\\x00\\x00\\x00\\x00\\x00\\x00\\x00\\x00\\x00\\x00\\x00\\x00\\x00\\x00\\x00\\x00\\x00\\x00\\x00\\x00\\x00\\x00\\x00\\x00\\x00\\x00\\x00\\x00\\x00\\x00\\x00\\x00\\x00\\x00\\x00\\x00\\x00\\x00\\x00\\x00\\x00\\x00\\x00\\x00\\x00\\x00\\x00\\x00\\x00\\x00\\x00\\x00\\x00\\x00\\x00\\x00\\x00\\x00\\x00\\x00\\x00\\x00\\x00\\x00\\x00\\x00\\x00\\x00\\x00\\x00\\x00\\x00\\x00\\x00\\x00\\x00\\x00\\x00\\x00\\x00\\x00\\x00\\x00\\x00\\x00\\x00\\x00\\x00\\x00\\x00\\x00\\x00\\x00\\x00\\x00\\x00\\x00\\x00\\x00\\x00\\x00\\x00\\x00\\x00\\x00\\x00\\x00\\x00\\x00\\x00\\x00\\x00\\x00\\x00\\x00\\x00\\x00\\x00\\x00\\x00\\x00\\x00\\x00\\x00\\x00\\x00\\x00\\x00\\x00\\x00\\x00\\x00\\x00\\x00\\x00\\x00\\x00\\x00\\x00\\x00\\x00\\x00\\x00\\x00\\x00\\x00\\x00\\x00\\x00\\x00\\x00\\x00\\x00\\x00\\x00\\x00\\x00\\x00\\x00\\x00\\x00\\x00\\x00\\x00\\x00\\x00\\x00\\x00\\x00\\x00\\x00\\x00\\x00\\x00\\x00\\x00\\x00\\x00\\x00\\x00\\x00\\x00\\x00\\x00\\x00\\x00\\x00\\x00\\x00\\x00\\x00\\x00\\x00\\x00\\x00\\x00\\x00\\x00\\x00\\x00\\x00\\x00\\x00SRS055118/SRS055118.denovo_duplicates_marked.trimmed.2.fastq\\x00\\x00\\x00\\x00\\x00\\x00\\x00\\x00\\x00\\x00\\x00\\x00\\x00\\x00\\x00\\x00\\x00\\x00\\x00\\x00\\x00\\x00\\x00\\x00\\x00\\x00\\x00\\x00\\x00\\x00\\x00\\x00\\x00\\x00\\x00\\x00\\x00\\x00\\x00\\x000000664\\x000001760\\x000001750\\x0003157171664\\x0011553572542\\x00022151\\x00 0\\x00\\x00\\x00\\x00\\x00\\x00\\x00\\x00\\x00\\x00\\x00\\x00\\x00\\x00\\x00\\x00\\x00\\x00\\x00\\x00\\x00\\x00\\x00\\x00\\x00\\x00\\x00\\x00\\x00\\x00\\x00\\x00\\x00\\x00\\x00\\x00\\x00\\x00\\x00\\x00\\x00\\x00\\x00\\x00\\x00\\x00\\x00\\x00\\x00\\x00\\x00\\x00\\x00\\x00\\x00\\x00\\x00\\x00\\x00\\x00\\x00\\x00\\x00\\x00\\x00\\x00\\x00\\x00\\x00\\x00\\x00\\x00\\x00\\x00\\x00\\x00\\x00\\x00\\x00\\x00\\x00\\x00\\x00\\x00\\x00\\x00\\x00\\x00\\x00\\x00\\x00\\x00\\x00\\x00\\x00\\x00\\x00\\x00\\x00\\x00ustar  \\x00vfelix\\x00\\x00\\x00\\x00\\x00\\x00\\x00\\x00\\x00\\x00\\x00\\x00\\x00\\x00\\x00\\x00\\x00\\x00\\x00\\x00\\x00\\x00\\x00\\x00\\x00\\x00igs\\x00\\x00\\x00\\x00\\x00\\x00\\x00\\x00\\x00\\x00\\x00\\x00\\x00\\x00\\x00\\x00\\x00\\x00\\x00\\x00\\x00\\x00\\x00\\x00\\x00\\x00\\x00\\x00\\x00\\x00\\x00\\x00\\x00\\x00\\x00\\x00\\x00\\x00\\x00\\x00\\x00\\x00\\x00\\x00\\x00\\x00\\x00\\x00\\x00\\x00\\x00\\x00\\x00\\x00\\x00\\x00\\x00\\x00\\x00\\x00\\x00\\x00\\x00\\x00\\x00\\x00\\x00\\x00\\x00\\x00\\x00\\x00\\x00\\x00\\x00\\x00\\x00\\x00\\x00\\x00\\x00\\x00\\x00\\x00\\x00\\x00\\x00\\x00\\x00\\x00\\x00\\x00\\x00\\x00\\x00\\x00\\x00\\x00\\x00\\x00\\x00\\x00\\x00\\x00\\x00\\x00\\x00\\x00\\x00\\x00\\x00\\x00\\x00\\x00\\x00\\x00\\x00\\x00\\x00\\x00\\x00\\x00\\x00\\x00\\x00\\x00\\x00\\x00\\x00\\x00\\x00\\x00\\x00\\x00\\x00\\x00\\x00\\x00\\x00\\x00\\x00\\x00\\x00\\x00\\x00\\x00\\x00\\x00\\x00\\x00\\x00\\x00\\x00\\x00\\x00\\x00\\x00\\x00\\x00\\x00\\x00\\x00\\x00\\x00\\x00\\x00\\x00\\x00\\x00\\x00\\x00\\x00\\x00\\x00\\x00\\x00\\x00\\x00\\x00\\x00\\x00\\x00\\x00\\x00\\x00\\x00\\x00\\x00\\x00\\x00\\x00\\x00\\x00\\x00\\x00\\x00\\x00\\x00\\x00\\x00\\x00\\x00\\x00\\x00\\x00\\x00\\x00\\x00\\x00\\x00\\x00\\x00@HWI-EAS90_102444043:7:100:10000:11973/2'],\n",
       " ['GATCGGGAGAGGGGCGGGGGGGGGGAGAGGGGAGATCTCGGGGGGGGGGGGGTGATTTAAAAAAA'],\n",
       " ['+HWI-EAS90_102444043:7:100:10000:11973/2'],\n",
       " [\"A0.39:*22/5(@/(C+?0&;=A2+,0)3+?3'?'%)0).@5BC9/?/'9')&%$;=1:<?AA?#\"],\n",
       " ['@HWI-EAS90_102444043:7:100:10001:3890/2'],\n",
       " ['TAAGGAGATGAGCAAAAGACCTAAGATAATACCCCGCTGATAGCCTATTTTAGTGAGAATAAAACCTGCAGGGATAGAAAAAAATAAGTAAGACAAGAAG'],\n",
       " ['+HWI-EAS90_102444043:7:100:10001:3890/2'],\n",
       " ['GGGGGGGGGGGGFGGGGGBGGGGFGGGGGGGGFGFGGGGFGGGDGGGFGGGGGBGBEBEEGGGGCFCGFGEFGGDGFBGEGGGGDCGF?GGGFEFBDBEE'],\n",
       " ['@HWI-EAS90_102444043:7:100:10004:4598/2'],\n",
       " ['GTTCTCCGCGACGATGCCACCGAAGATCAAGAAGTTCGCCCGCACGATCCTGCACGATCCCGCCGAGGTCGAGCTGGCGATCTCCCGCCCGCC']]"
      ]
     },
     "execution_count": 8,
     "metadata": {},
     "output_type": "execute_result"
    }
   ],
   "source": [
    "microbiome_lines.take(10)"
   ]
  },
  {
   "cell_type": "code",
   "execution_count": 5,
   "metadata": {},
   "outputs": [],
   "source": [
    "microbiome_lines_indices =microbiome_lines.zipWithIndex().map(lambda x: (x[1],x[0]))"
   ]
  },
  {
   "cell_type": "code",
   "execution_count": 10,
   "metadata": {},
   "outputs": [
    {
     "data": {
      "text/plain": [
       "[(0,\n",
       "  ['SRS055118/\\x00\\x00\\x00\\x00\\x00\\x00\\x00\\x00\\x00\\x00\\x00\\x00\\x00\\x00\\x00\\x00\\x00\\x00\\x00\\x00\\x00\\x00\\x00\\x00\\x00\\x00\\x00\\x00\\x00\\x00\\x00\\x00\\x00\\x00\\x00\\x00\\x00\\x00\\x00\\x00\\x00\\x00\\x00\\x00\\x00\\x00\\x00\\x00\\x00\\x00\\x00\\x00\\x00\\x00\\x00\\x00\\x00\\x00\\x00\\x00\\x00\\x00\\x00\\x00\\x00\\x00\\x00\\x00\\x00\\x00\\x00\\x00\\x00\\x00\\x00\\x00\\x00\\x00\\x00\\x00\\x00\\x00\\x00\\x00\\x00\\x00\\x00\\x00\\x00\\x000002775\\x000001760\\x000001750\\x0000000000000\\x0011553572542\\x00011070\\x00 5\\x00\\x00\\x00\\x00\\x00\\x00\\x00\\x00\\x00\\x00\\x00\\x00\\x00\\x00\\x00\\x00\\x00\\x00\\x00\\x00\\x00\\x00\\x00\\x00\\x00\\x00\\x00\\x00\\x00\\x00\\x00\\x00\\x00\\x00\\x00\\x00\\x00\\x00\\x00\\x00\\x00\\x00\\x00\\x00\\x00\\x00\\x00\\x00\\x00\\x00\\x00\\x00\\x00\\x00\\x00\\x00\\x00\\x00\\x00\\x00\\x00\\x00\\x00\\x00\\x00\\x00\\x00\\x00\\x00\\x00\\x00\\x00\\x00\\x00\\x00\\x00\\x00\\x00\\x00\\x00\\x00\\x00\\x00\\x00\\x00\\x00\\x00\\x00\\x00\\x00\\x00\\x00\\x00\\x00\\x00\\x00\\x00\\x00\\x00\\x00ustar  \\x00vfelix\\x00\\x00\\x00\\x00\\x00\\x00\\x00\\x00\\x00\\x00\\x00\\x00\\x00\\x00\\x00\\x00\\x00\\x00\\x00\\x00\\x00\\x00\\x00\\x00\\x00\\x00igs\\x00\\x00\\x00\\x00\\x00\\x00\\x00\\x00\\x00\\x00\\x00\\x00\\x00\\x00\\x00\\x00\\x00\\x00\\x00\\x00\\x00\\x00\\x00\\x00\\x00\\x00\\x00\\x00\\x00\\x00\\x00\\x00\\x00\\x00\\x00\\x00\\x00\\x00\\x00\\x00\\x00\\x00\\x00\\x00\\x00\\x00\\x00\\x00\\x00\\x00\\x00\\x00\\x00\\x00\\x00\\x00\\x00\\x00\\x00\\x00\\x00\\x00\\x00\\x00\\x00\\x00\\x00\\x00\\x00\\x00\\x00\\x00\\x00\\x00\\x00\\x00\\x00\\x00\\x00\\x00\\x00\\x00\\x00\\x00\\x00\\x00\\x00\\x00\\x00\\x00\\x00\\x00\\x00\\x00\\x00\\x00\\x00\\x00\\x00\\x00\\x00\\x00\\x00\\x00\\x00\\x00\\x00\\x00\\x00\\x00\\x00\\x00\\x00\\x00\\x00\\x00\\x00\\x00\\x00\\x00\\x00\\x00\\x00\\x00\\x00\\x00\\x00\\x00\\x00\\x00\\x00\\x00\\x00\\x00\\x00\\x00\\x00\\x00\\x00\\x00\\x00\\x00\\x00\\x00\\x00\\x00\\x00\\x00\\x00\\x00\\x00\\x00\\x00\\x00\\x00\\x00\\x00\\x00\\x00\\x00\\x00\\x00\\x00\\x00\\x00\\x00\\x00\\x00\\x00\\x00\\x00\\x00\\x00\\x00\\x00\\x00\\x00\\x00\\x00\\x00\\x00\\x00\\x00\\x00\\x00\\x00\\x00\\x00\\x00\\x00\\x00\\x00\\x00\\x00\\x00\\x00\\x00\\x00\\x00\\x00\\x00\\x00\\x00\\x00\\x00\\x00\\x00\\x00\\x00\\x00\\x00\\x00SRS055118/SRS055118.denovo_duplicates_marked.trimmed.2.fastq\\x00\\x00\\x00\\x00\\x00\\x00\\x00\\x00\\x00\\x00\\x00\\x00\\x00\\x00\\x00\\x00\\x00\\x00\\x00\\x00\\x00\\x00\\x00\\x00\\x00\\x00\\x00\\x00\\x00\\x00\\x00\\x00\\x00\\x00\\x00\\x00\\x00\\x00\\x00\\x000000664\\x000001760\\x000001750\\x0003157171664\\x0011553572542\\x00022151\\x00 0\\x00\\x00\\x00\\x00\\x00\\x00\\x00\\x00\\x00\\x00\\x00\\x00\\x00\\x00\\x00\\x00\\x00\\x00\\x00\\x00\\x00\\x00\\x00\\x00\\x00\\x00\\x00\\x00\\x00\\x00\\x00\\x00\\x00\\x00\\x00\\x00\\x00\\x00\\x00\\x00\\x00\\x00\\x00\\x00\\x00\\x00\\x00\\x00\\x00\\x00\\x00\\x00\\x00\\x00\\x00\\x00\\x00\\x00\\x00\\x00\\x00\\x00\\x00\\x00\\x00\\x00\\x00\\x00\\x00\\x00\\x00\\x00\\x00\\x00\\x00\\x00\\x00\\x00\\x00\\x00\\x00\\x00\\x00\\x00\\x00\\x00\\x00\\x00\\x00\\x00\\x00\\x00\\x00\\x00\\x00\\x00\\x00\\x00\\x00\\x00ustar  \\x00vfelix\\x00\\x00\\x00\\x00\\x00\\x00\\x00\\x00\\x00\\x00\\x00\\x00\\x00\\x00\\x00\\x00\\x00\\x00\\x00\\x00\\x00\\x00\\x00\\x00\\x00\\x00igs\\x00\\x00\\x00\\x00\\x00\\x00\\x00\\x00\\x00\\x00\\x00\\x00\\x00\\x00\\x00\\x00\\x00\\x00\\x00\\x00\\x00\\x00\\x00\\x00\\x00\\x00\\x00\\x00\\x00\\x00\\x00\\x00\\x00\\x00\\x00\\x00\\x00\\x00\\x00\\x00\\x00\\x00\\x00\\x00\\x00\\x00\\x00\\x00\\x00\\x00\\x00\\x00\\x00\\x00\\x00\\x00\\x00\\x00\\x00\\x00\\x00\\x00\\x00\\x00\\x00\\x00\\x00\\x00\\x00\\x00\\x00\\x00\\x00\\x00\\x00\\x00\\x00\\x00\\x00\\x00\\x00\\x00\\x00\\x00\\x00\\x00\\x00\\x00\\x00\\x00\\x00\\x00\\x00\\x00\\x00\\x00\\x00\\x00\\x00\\x00\\x00\\x00\\x00\\x00\\x00\\x00\\x00\\x00\\x00\\x00\\x00\\x00\\x00\\x00\\x00\\x00\\x00\\x00\\x00\\x00\\x00\\x00\\x00\\x00\\x00\\x00\\x00\\x00\\x00\\x00\\x00\\x00\\x00\\x00\\x00\\x00\\x00\\x00\\x00\\x00\\x00\\x00\\x00\\x00\\x00\\x00\\x00\\x00\\x00\\x00\\x00\\x00\\x00\\x00\\x00\\x00\\x00\\x00\\x00\\x00\\x00\\x00\\x00\\x00\\x00\\x00\\x00\\x00\\x00\\x00\\x00\\x00\\x00\\x00\\x00\\x00\\x00\\x00\\x00\\x00\\x00\\x00\\x00\\x00\\x00\\x00\\x00\\x00\\x00\\x00\\x00\\x00\\x00\\x00\\x00\\x00\\x00\\x00\\x00\\x00\\x00\\x00\\x00\\x00\\x00\\x00\\x00\\x00\\x00\\x00\\x00\\x00@HWI-EAS90_102444043:7:100:10000:11973/2']),\n",
       " (1, ['GATCGGGAGAGGGGCGGGGGGGGGGAGAGGGGAGATCTCGGGGGGGGGGGGGTGATTTAAAAAAA']),\n",
       " (2, ['+HWI-EAS90_102444043:7:100:10000:11973/2']),\n",
       " (3, [\"A0.39:*22/5(@/(C+?0&;=A2+,0)3+?3'?'%)0).@5BC9/?/'9')&%$;=1:<?AA?#\"]),\n",
       " (4, ['@HWI-EAS90_102444043:7:100:10001:3890/2']),\n",
       " (5,\n",
       "  ['TAAGGAGATGAGCAAAAGACCTAAGATAATACCCCGCTGATAGCCTATTTTAGTGAGAATAAAACCTGCAGGGATAGAAAAAAATAAGTAAGACAAGAAG']),\n",
       " (6, ['+HWI-EAS90_102444043:7:100:10001:3890/2']),\n",
       " (7,\n",
       "  ['GGGGGGGGGGGGFGGGGGBGGGGFGGGGGGGGFGFGGGGFGGGDGGGFGGGGGBGBEBEEGGGGCFCGFGEFGGDGFBGEGGGGDCGF?GGGFEFBDBEE']),\n",
       " (8, ['@HWI-EAS90_102444043:7:100:10004:4598/2']),\n",
       " (9,\n",
       "  ['GTTCTCCGCGACGATGCCACCGAAGATCAAGAAGTTCGCCCGCACGATCCTGCACGATCCCGCCGAGGTCGAGCTGGCGATCTCCCGCCCGCC'])]"
      ]
     },
     "execution_count": 10,
     "metadata": {},
     "output_type": "execute_result"
    }
   ],
   "source": [
    "microbiome_lines_indices.take(10)"
   ]
  },
  {
   "cell_type": "code",
   "execution_count": 6,
   "metadata": {},
   "outputs": [],
   "source": [
    "microbiome_lines_sorted = microbiome_lines_indices.filter(lambda x: x[0]%4 == 1)"
   ]
  },
  {
   "cell_type": "code",
   "execution_count": 12,
   "metadata": {},
   "outputs": [
    {
     "data": {
      "text/plain": [
       "[(1, ['GATCGGGAGAGGGGCGGGGGGGGGGAGAGGGGAGATCTCGGGGGGGGGGGGGTGATTTAAAAAAA']),\n",
       " (5,\n",
       "  ['TAAGGAGATGAGCAAAAGACCTAAGATAATACCCCGCTGATAGCCTATTTTAGTGAGAATAAAACCTGCAGGGATAGAAAAAAATAAGTAAGACAAGAAG']),\n",
       " (9,\n",
       "  ['GTTCTCCGCGACGATGCCACCGAAGATCAAGAAGTTCGCCCGCACGATCCTGCACGATCCCGCCGAGGTCGAGCTGGCGATCTCCCGCCCGCC']),\n",
       " (13,\n",
       "  ['TAAGAAATTTAGTACCAATTATAATATTTGCAGTATTAATTATAATAGGATTATGGTTAATACCTGAAAAAATGACAACAGGATTTACATATTTTGGAAC']),\n",
       " (17,\n",
       "  ['CAATGGCTTCAGCCACCGTTTCTTCACGAATATCCAGAGCCACCATAACCCTTTGGATATCCTTGTCCAAAGTTCCAATTTGCAGGCCACGACTGTCTCC']),\n",
       " (21, ['GGTCGGGAGAGGGGCGGGGGGGGGGAGAGGGGAGAAGTCGGGGGGGGGGGGGTCGTTTAAAAAAA']),\n",
       " (25, ['GGTTGGGAGAGGGGGGGGGGGGGGGAGGGGGGGGGGATCGGGGGGGGGCGGGGCCTTTAAAAAAA']),\n",
       " (29,\n",
       "  ['CAATATAGATGTGGCTGGAGGCCAGAATCGGAATGATAGGGCTACTAACAAGGCCACAACTAGCCCTAAAACGATACGCCATACGGAGAGTATAGG']),\n",
       " (33,\n",
       "  ['CACCCTCAAACGGGATATTGATCTCTTGAAATTTTATCGCAGCGGCGTTTGCGTTATTGCCTGCAGCGCCGTTTCCTGCGGCGTTTTCGCCGACGCGCTC']),\n",
       " (37, ['AAAGGCACGGTTGATTTTGTCTCTAGCGCGGGCCTCATTATTATGGCAGCATCCGCAAAAA'])]"
      ]
     },
     "execution_count": 12,
     "metadata": {},
     "output_type": "execute_result"
    }
   ],
   "source": [
    "microbiome_lines_sorted.take(10)"
   ]
  },
  {
   "cell_type": "code",
   "execution_count": 7,
   "metadata": {},
   "outputs": [],
   "source": [
    "microbiome_characters = microbiome_lines_sorted.map(lambda x: separate(x[1]))"
   ]
  },
  {
   "cell_type": "code",
   "execution_count": 8,
   "metadata": {},
   "outputs": [
    {
     "data": {
      "text/plain": [
       "[['G',\n",
       "  'A',\n",
       "  'T',\n",
       "  'C',\n",
       "  'G',\n",
       "  'G',\n",
       "  'G',\n",
       "  'A',\n",
       "  'G',\n",
       "  'A',\n",
       "  'G',\n",
       "  'G',\n",
       "  'G',\n",
       "  'G',\n",
       "  'C',\n",
       "  'G',\n",
       "  'G',\n",
       "  'G',\n",
       "  'G',\n",
       "  'G',\n",
       "  'G',\n",
       "  'G',\n",
       "  'G',\n",
       "  'G',\n",
       "  'G',\n",
       "  'A',\n",
       "  'G',\n",
       "  'A',\n",
       "  'G',\n",
       "  'G',\n",
       "  'G',\n",
       "  'G',\n",
       "  'A',\n",
       "  'G',\n",
       "  'A',\n",
       "  'T',\n",
       "  'C',\n",
       "  'T',\n",
       "  'C',\n",
       "  'G',\n",
       "  'G',\n",
       "  'G',\n",
       "  'G',\n",
       "  'G',\n",
       "  'G',\n",
       "  'G',\n",
       "  'G',\n",
       "  'G',\n",
       "  'G',\n",
       "  'G',\n",
       "  'G',\n",
       "  'G',\n",
       "  'T',\n",
       "  'G',\n",
       "  'A',\n",
       "  'T',\n",
       "  'T',\n",
       "  'T',\n",
       "  'A',\n",
       "  'A',\n",
       "  'A',\n",
       "  'A',\n",
       "  'A',\n",
       "  'A',\n",
       "  'A'],\n",
       " ['T',\n",
       "  'A',\n",
       "  'A',\n",
       "  'G',\n",
       "  'G',\n",
       "  'A',\n",
       "  'G',\n",
       "  'A',\n",
       "  'T',\n",
       "  'G',\n",
       "  'A',\n",
       "  'G',\n",
       "  'C',\n",
       "  'A',\n",
       "  'A',\n",
       "  'A',\n",
       "  'A',\n",
       "  'G',\n",
       "  'A',\n",
       "  'C',\n",
       "  'C',\n",
       "  'T',\n",
       "  'A',\n",
       "  'A',\n",
       "  'G',\n",
       "  'A',\n",
       "  'T',\n",
       "  'A',\n",
       "  'A',\n",
       "  'T',\n",
       "  'A',\n",
       "  'C',\n",
       "  'C',\n",
       "  'C',\n",
       "  'C',\n",
       "  'G',\n",
       "  'C',\n",
       "  'T',\n",
       "  'G',\n",
       "  'A',\n",
       "  'T',\n",
       "  'A',\n",
       "  'G',\n",
       "  'C',\n",
       "  'C',\n",
       "  'T',\n",
       "  'A',\n",
       "  'T',\n",
       "  'T',\n",
       "  'T',\n",
       "  'T',\n",
       "  'A',\n",
       "  'G',\n",
       "  'T',\n",
       "  'G',\n",
       "  'A',\n",
       "  'G',\n",
       "  'A',\n",
       "  'A',\n",
       "  'T',\n",
       "  'A',\n",
       "  'A',\n",
       "  'A',\n",
       "  'A',\n",
       "  'C',\n",
       "  'C',\n",
       "  'T',\n",
       "  'G',\n",
       "  'C',\n",
       "  'A',\n",
       "  'G',\n",
       "  'G',\n",
       "  'G',\n",
       "  'A',\n",
       "  'T',\n",
       "  'A',\n",
       "  'G',\n",
       "  'A',\n",
       "  'A',\n",
       "  'A',\n",
       "  'A',\n",
       "  'A',\n",
       "  'A',\n",
       "  'A',\n",
       "  'T',\n",
       "  'A',\n",
       "  'A',\n",
       "  'G',\n",
       "  'T',\n",
       "  'A',\n",
       "  'A',\n",
       "  'G',\n",
       "  'A',\n",
       "  'C',\n",
       "  'A',\n",
       "  'A',\n",
       "  'G',\n",
       "  'A',\n",
       "  'A',\n",
       "  'G']]"
      ]
     },
     "execution_count": 8,
     "metadata": {},
     "output_type": "execute_result"
    }
   ],
   "source": [
    "microbiome_characters.take(2)"
   ]
  },
  {
   "cell_type": "code",
   "execution_count": 15,
   "metadata": {},
   "outputs": [],
   "source": [
    "microbiome_mapped_reduced = microbiome_characters.map(map_char).reduceByKey(lambda x, y: x + y)"
   ]
  },
  {
   "cell_type": "code",
   "execution_count": 16,
   "metadata": {},
   "outputs": [
    {
     "data": {
      "text/plain": [
       "[('N', 125639), ('T', 489334), ('A', 549640), ('C', 1827572), ('G', 8542294)]"
      ]
     },
     "execution_count": 16,
     "metadata": {},
     "output_type": "execute_result"
    }
   ],
   "source": [
    "microbiome_mapped_reduced.take(10)"
   ]
  },
  {
   "cell_type": "code",
   "execution_count": 17,
   "metadata": {},
   "outputs": [],
   "source": [
    "total_sum = microbiome_mapped_reduced.map(lambda x: x[1]).sum()"
   ]
  },
  {
   "cell_type": "code",
   "execution_count": 18,
   "metadata": {},
   "outputs": [
    {
     "name": "stdout",
     "output_type": "stream",
     "text": [
      "Total sum is 11534479\n"
     ]
    }
   ],
   "source": [
    "print(f'Total sum is {total_sum}')"
   ]
  },
  {
   "cell_type": "code",
   "execution_count": 19,
   "metadata": {},
   "outputs": [],
   "source": [
    "g = microbiome_mapped_reduced.filter(lambda x: x[0] == \"G\").filter(lambda x: x[1]).take(1)[0][1]"
   ]
  },
  {
   "cell_type": "code",
   "execution_count": 20,
   "metadata": {},
   "outputs": [
    {
     "name": "stdout",
     "output_type": "stream",
     "text": [
      "G content is 8542294\n"
     ]
    }
   ],
   "source": [
    "print(f'G content is {g}')"
   ]
  },
  {
   "cell_type": "code",
   "execution_count": 21,
   "metadata": {},
   "outputs": [],
   "source": [
    "c = microbiome_mapped_reduced.filter(lambda x: x[0] == \"C\").filter(lambda x: x[1]).take(1)[0][1]"
   ]
  },
  {
   "cell_type": "code",
   "execution_count": 22,
   "metadata": {},
   "outputs": [
    {
     "name": "stdout",
     "output_type": "stream",
     "text": [
      "C content is 1827572\n"
     ]
    }
   ],
   "source": [
    "print(f'C content is {c}')"
   ]
  },
  {
   "cell_type": "code",
   "execution_count": 23,
   "metadata": {},
   "outputs": [],
   "source": [
    "GC_percentage = ((g+c)/total_sum)*100"
   ]
  },
  {
   "cell_type": "code",
   "execution_count": 24,
   "metadata": {},
   "outputs": [
    {
     "name": "stdout",
     "output_type": "stream",
     "text": [
      "GC content in the file \"SRS055118.tar.bz2\" is 89.90%\n"
     ]
    }
   ],
   "source": [
    "print(f'GC content in the file \"{file_name}\" is {GC_percentage:0.2f}%')"
   ]
  },
  {
   "cell_type": "code",
   "execution_count": 26,
   "metadata": {},
   "outputs": [],
   "source": [
    "def GC_content_count(path, filename):\n",
    "    start = datetime.datetime.now()\n",
    "    microbiome = sc.textFile(path)\n",
    "    microbiome_lines = microbiome.map(lambda x: x.split('\\n'))\n",
    "    microbiome_lines_indices =microbiome_lines.zipWithIndex().map(lambda x: (x[1],x[0]))\n",
    "    microbiome_characters = microbiome_lines_indices.filter(lambda x: x[0]%4 == 1).map(lambda x: separate(x[1]))\n",
    "    microbiome_mapped_reduced = microbiome_characters.map(map_char).reduceByKey(lambda x, y: x + y)\n",
    "    total_sum = microbiome_mapped_reduced.map(lambda x: x[1]).sum()\n",
    "    g = microbiome_mapped_reduced.filter(lambda x: x[0] == \"G\").filter(lambda x: x[1]).take(1)[0][1]\n",
    "    c = microbiome_mapped_reduced.filter(lambda x: x[0] == \"C\").filter(lambda x: x[1]).take(1)[0][1]\n",
    "    GC_percentage = ((g+c)/total_sum)*100\n",
    "    end = datetime.datetime.now()\n",
    "    total_time = end - start\n",
    "    print(f'GC content in the file \"{filename}\" is {GC_percentage:0.2f}%')\n",
    "    print(f'Total runtime: {total_time}')"
   ]
  },
  {
   "cell_type": "code",
   "execution_count": 27,
   "metadata": {},
   "outputs": [
    {
     "name": "stdout",
     "output_type": "stream",
     "text": [
      "GC content in the file \"SRS055118.tar.bz2\" is 89.90%\n",
      "Total runtime: 0:03:36.448096\n"
     ]
    }
   ],
   "source": [
    "GC_content_count(\"hdfs://192.168.1.153:9000/team08/SRS055118.tar.bz2\", \"SRS055118.tar.bz2\")"
   ]
  },
  {
   "cell_type": "code",
   "execution_count": 28,
   "metadata": {},
   "outputs": [
    {
     "name": "stdout",
     "output_type": "stream",
     "text": [
      "GC content in the file \"joined.tar.bz2\" is 76.83%\n",
      "Total runtime: 0:03:22.010984\n"
     ]
    }
   ],
   "source": [
    "GC_content_count(\"hdfs://192.168.1.153:9000/team08/joined.tar.bz2\", \"joined.tar.bz2\")"
   ]
  },
  {
   "cell_type": "code",
   "execution_count": null,
   "metadata": {},
   "outputs": [],
   "source": []
  }
 ],
 "metadata": {
  "kernelspec": {
   "display_name": "Python 3",
   "language": "python",
   "name": "python3"
  },
  "language_info": {
   "codemirror_mode": {
    "name": "ipython",
    "version": 3
   },
   "file_extension": ".py",
   "mimetype": "text/x-python",
   "name": "python",
   "nbconvert_exporter": "python",
   "pygments_lexer": "ipython3",
   "version": "3.6.7"
  }
 },
 "nbformat": 4,
 "nbformat_minor": 2
}
