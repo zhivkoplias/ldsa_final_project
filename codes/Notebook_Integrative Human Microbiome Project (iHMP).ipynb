{
 "cells": [
  {
   "cell_type": "code",
   "execution_count": 2,
   "metadata": {},
   "outputs": [],
   "source": [
    "from pyspark.sql import SparkSession\n",
    "#or use .master(\"local[1]\") instead of .master(\"spark://192.168.1.153:7077\")\n",
    "spark_session = SparkSession\\\n",
    "        .builder\\\n",
    "        .master(\"spark://192.168.1.153:7077\") \\\n",
    "        .appName(\"team8\")\\\n",
    "        .config(\"spark.dynamicAllocation.enabled\", True)\\\n",
    "        .config(\"spark.shuffle.service.enabled\", True)\\\n",
    "        .config(\"spark.dynamicAllocation.executorIdleTimeout\",\"30s\")\\\n",
    "        .config(\"spark.executor.cores\",4)\\\n",
    "        .getOrCreate()\n",
    "        \n",
    "sc = spark_session.sparkContext"
   ]
  },
  {
   "cell_type": "code",
   "execution_count": 2,
   "metadata": {},
   "outputs": [],
   "source": [
    "# get data from here - https://portal.hmpdacc.org/search/f?filters=%7B%22content%22:%5B%7B%22op%22:%22in%22,%22content%22:%7B%22field%22:%22files.file_format%22,%22value%22:%5B%22FASTQ%22%5D%7D%7D,%7B%22op%22:%22in%22,%22content%22:%7B%22field%22:%22cases.subject.gender%22,%22value%22:%5B%22female%22%5D%7D%7D,%7B%22op%22:%22in%22,%22content%22:%7B%22field%22:%22cases.sample_body_site%22,%22value%22:%5B%22buccal%20mucosa%22%5D%7D%7D,%7B%22op%22:%22in%22,%22content%22:%7B%22field%22:%22cases.subject_gender%22,%22value%22:%5B%22female%22%5D%7D%7D%5D,%22op%22:%22and%22%7D&facetTab=cases&pagination=%7B%22files%22:%7B%22from%22:1,%22size%22:20,%22sort%22:%22file_name.raw:asc%22%7D%7D\n",
    "# use wget\n",
    "\n",
    "# load file to rdd\n",
    "# microbiome = spark_context.textFile(\"/home/ubuntu/microbiome/SRS055118.tar.bz2\")\n",
    "microbiome = sc.textFile(\"hdfs://192.168.1.153:9000/team08/SRS055118.tar.bz2\")"
   ]
  },
  {
   "cell_type": "code",
   "execution_count": 5,
   "metadata": {},
   "outputs": [
    {
     "name": "stdout",
     "output_type": "stream",
     "text": [
      "46137917\n"
     ]
    }
   ],
   "source": [
    "# Count number of lines\n",
    "\n",
    "print(microbiome.count())"
   ]
  },
  {
   "cell_type": "code",
   "execution_count": 3,
   "metadata": {},
   "outputs": [],
   "source": [
    "# filter for sequences\n",
    "\n",
    "microbiome_sequences = microbiome.zipWithIndex().map(lambda x: (x[1]-1,x[0])).filter(lambda x: x[0]%4 == 0)\n"
   ]
  },
  {
   "cell_type": "code",
   "execution_count": 4,
   "metadata": {},
   "outputs": [],
   "source": [
    "# break by every nucleotide\n",
    "microbiome_sequences_nucleo = microbiome_sequences.map(lambda x: x[1])\n",
    "microbiome_sequences_nucleo = microbiome_sequences_nucleo.flatMap(lambda line: line.strip())\n",
    "microbiome_sequences_nucleo = microbiome_sequences_nucleo.map(lambda word: (word, 1))\n",
    "microbiome_sequences_nucleo = microbiome_sequences_nucleo.reduceByKey(lambda a, b: a + b, 1)\n",
    "microbiome_sequences_nucleo = microbiome_sequences_nucleo.sortByKey(1, 1)\n",
    "microbiome_sequences_nucleo = microbiome_sequences_nucleo.sortBy(lambda pair:pair[1], False)\n",
    "\n",
    "# import pysam\n",
    "# samfile = pysam.AlignmentFile(\"/home/ubuntu/data/NA06985.final.cram\", \"rc\")\n",
    "# print('ok')"
   ]
  },
  {
   "cell_type": "code",
   "execution_count": 5,
   "metadata": {},
   "outputs": [
    {
     "name": "stdout",
     "output_type": "stream",
     "text": [
      "821233960\n"
     ]
    }
   ],
   "source": [
    "# count GC%\n",
    "total_sum = microbiome_sequences_nucleo.map(lambda x : x[1]).sum()\n",
    "#g_sum = microbiome_sequences_nucleo.filter(lambda x: x[0] == \"G\")\n",
    "#c_sum = microbiome_sequences_nucleo.filter(lambda x: x[0] == \"C\")\n",
    "print(total_sum)"
   ]
  },
  {
   "cell_type": "code",
   "execution_count": 23,
   "metadata": {},
   "outputs": [],
   "source": [
    "g_sum = microbiome_sequences_nucleo.filter(lambda x: x[0] == \"G\")\n",
    "g_sum = g_sum.filter(lambda x: x[1])\n",
    "\n",
    "c_sum = microbiome_sequences_nucleo.filter(lambda x: x[0] == \"C\")\n",
    "c_sum = g_sum.filter(lambda x: x[1])"
   ]
  },
  {
   "cell_type": "code",
   "execution_count": 27,
   "metadata": {},
   "outputs": [
    {
     "name": "stdout",
     "output_type": "stream",
     "text": [
      "64.3421360704567\n"
     ]
    }
   ],
   "source": [
    "gc_sum = g_sum.take(1)[0][1] + c_sum.take(1)[0][1]\n",
    "print(( gc_sum / total_sum)*100 )"
   ]
  },
  {
   "cell_type": "code",
   "execution_count": 4,
   "metadata": {},
   "outputs": [],
   "source": [
    "# Final function\n",
    "\n",
    "import datetime\n",
    "\n",
    "def CountGCwSpark(path):\n",
    "    microbiome = sc.textFile(path)\n",
    "    start_time = 'Start time:' + datetime.date.strftime(datetime.datetime.now(), format=\"%H:%M:%S %d/%m/%Y\") + '\\n'\n",
    "    print(start_time)\n",
    "    time_diff_a = datetime.datetime.now()\n",
    "    # filter for sequences\n",
    "    microbiome_sequences = microbiome.zipWithIndex().map(lambda x: (x[1]-1,x[0])).filter(lambda x: x[0]%4 == 0)\n",
    "    # break by nucleotide\n",
    "    microbiome_sequences_nucleo = microbiome_sequences.map(lambda x: x[1]).flatMap(lambda line: line.strip())\n",
    "    # map-reduce\n",
    "    microbiome_sequences_nucleo = microbiome_sequences_nucleo.map(lambda word: (word, 1)).reduceByKey(lambda a, b: a + b, 1)\n",
    "    # count GC\n",
    "    total_sum = microbiome_sequences_nucleo.map(lambda x : x[1]).sum()\n",
    "    g_sum = microbiome_sequences_nucleo.filter(lambda x: x[0] == \"G\")\n",
    "    g_sum = g_sum.filter(lambda x: x[1])\n",
    "    c_sum = microbiome_sequences_nucleo.filter(lambda x: x[0] == \"C\")\n",
    "    c_sum = c_sum.filter(lambda x: x[1])\n",
    "    gc_sum = g_sum.take(1)[0][1] + c_sum.take(1)[0][1]\n",
    "    print(( gc_sum / total_sum)*100 )\n",
    "    end_time = 'End time:' + datetime.date.strftime(datetime.datetime.now(), format=\"%H:%M:%S %d/%m/%Y\") + '\\n'\n",
    "    print(end_time)\n",
    "    time_diff_b = datetime.datetime.now()\n",
    "    total_time = time_diff_b - time_diff_a\n",
    "    total_time_message = 'It took ' + str(total_time)\n",
    "    print(total_time_message)\n",
    "    return\n",
    "\n",
    "#CountGCwSpark(\"hdfs://192.168.1.153:9000/team08/SRS055118.tar.bz2\")"
   ]
  },
  {
   "cell_type": "code",
   "execution_count": 5,
   "metadata": {},
   "outputs": [
    {
     "name": "stdout",
     "output_type": "stream",
     "text": [
      "Start time:15:10:38 04/06/2019\n",
      "\n",
      "49.79655371408647\n",
      "End time:15:21:11 04/06/2019\n",
      "\n",
      "It took 0:10:32.633786\n"
     ]
    }
   ],
   "source": [
    "CountGCwSpark(\"hdfs://192.168.1.153:9000/team08/joined.tar.bz2\")"
   ]
  },
  {
   "cell_type": "code",
   "execution_count": 5,
   "metadata": {},
   "outputs": [
    {
     "name": "stdout",
     "output_type": "stream",
     "text": [
      "Start time:16:14:28 04/06/2019\n",
      "\n",
      "2.3067595648953416\n",
      "End time:16:30:28 04/06/2019\n",
      "\n",
      "It took 0:15:59.678349\n"
     ]
    }
   ],
   "source": [
    "CountGCwSpark(\"hdfs://192.168.1.153:9000/team08/SRS143728.tar.bz2\")"
   ]
  },
  {
   "cell_type": "code",
   "execution_count": null,
   "metadata": {},
   "outputs": [],
   "source": []
  }
 ],
 "metadata": {
  "kernelspec": {
   "display_name": "Python 3",
   "language": "python",
   "name": "python3"
  }
 },
 "nbformat": 4,
 "nbformat_minor": 2
}
